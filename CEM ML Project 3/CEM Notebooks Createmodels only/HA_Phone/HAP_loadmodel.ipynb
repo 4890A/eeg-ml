{
 "cells": [
  {
   "cell_type": "code",
   "execution_count": 7,
   "metadata": {},
   "outputs": [],
   "source": [
    "#Import Dependencies\n",
    "import csv, sqlite3\n",
    "import pandas as pd"
   ]
  },
  {
   "cell_type": "code",
   "execution_count": 8,
   "metadata": {},
   "outputs": [],
   "source": [
    "#DATABASE name\n",
    "database = '../db_testing/project3db.sqlite'"
   ]
  },
  {
   "cell_type": "code",
   "execution_count": 9,
   "metadata": {},
   "outputs": [
    {
     "name": "stdout",
     "output_type": "stream",
     "text": [
      "Alc_test1\n",
      "sqlite_sequence\n",
      "HA_test_phone1\n",
      "HA_test_watch1\n"
     ]
    }
   ],
   "source": [
    "db = sqlite3.connect(database)\n",
    "cursor = db.cursor()\n",
    "res = cursor.execute(\"SELECT name FROM sqlite_master WHERE type='table';\")\n",
    "for name in res:\n",
    "    print (name[0])\n",
    "db.close()"
   ]
  },
  {
   "cell_type": "code",
   "execution_count": 10,
   "metadata": {},
   "outputs": [
    {
     "data": {
      "text/html": [
       "<div>\n",
       "<style scoped>\n",
       "    .dataframe tbody tr th:only-of-type {\n",
       "        vertical-align: middle;\n",
       "    }\n",
       "\n",
       "    .dataframe tbody tr th {\n",
       "        vertical-align: top;\n",
       "    }\n",
       "\n",
       "    .dataframe thead th {\n",
       "        text-align: right;\n",
       "    }\n",
       "</style>\n",
       "<table border=\"1\" class=\"dataframe\">\n",
       "  <thead>\n",
       "    <tr style=\"text-align: right;\">\n",
       "      <th></th>\n",
       "      <th>rec_id</th>\n",
       "      <th>x</th>\n",
       "      <th>y</th>\n",
       "      <th>z</th>\n",
       "      <th>Status</th>\n",
       "    </tr>\n",
       "  </thead>\n",
       "  <tbody>\n",
       "    <tr>\n",
       "      <th>0</th>\n",
       "      <td>1</td>\n",
       "      <td>-1.725723</td>\n",
       "      <td>-0.713531</td>\n",
       "      <td>5.246567</td>\n",
       "      <td>bike</td>\n",
       "    </tr>\n",
       "    <tr>\n",
       "      <th>1</th>\n",
       "      <td>2</td>\n",
       "      <td>-6.947235</td>\n",
       "      <td>0.870163</td>\n",
       "      <td>12.201019</td>\n",
       "      <td>walk</td>\n",
       "    </tr>\n",
       "    <tr>\n",
       "      <th>2</th>\n",
       "      <td>3</td>\n",
       "      <td>-2.430313</td>\n",
       "      <td>-2.883240</td>\n",
       "      <td>11.265335</td>\n",
       "      <td>walk</td>\n",
       "    </tr>\n",
       "    <tr>\n",
       "      <th>3</th>\n",
       "      <td>4</td>\n",
       "      <td>5.292801</td>\n",
       "      <td>0.265991</td>\n",
       "      <td>8.349380</td>\n",
       "      <td>sit</td>\n",
       "    </tr>\n",
       "    <tr>\n",
       "      <th>4</th>\n",
       "      <td>5</td>\n",
       "      <td>-2.705246</td>\n",
       "      <td>1.418091</td>\n",
       "      <td>9.863297</td>\n",
       "      <td>bike</td>\n",
       "    </tr>\n",
       "  </tbody>\n",
       "</table>\n",
       "</div>"
      ],
      "text/plain": [
       "   rec_id         x         y          z Status\n",
       "0       1 -1.725723 -0.713531   5.246567   bike\n",
       "1       2 -6.947235  0.870163  12.201019   walk\n",
       "2       3 -2.430313 -2.883240  11.265335   walk\n",
       "3       4  5.292801  0.265991   8.349380    sit\n",
       "4       5 -2.705246  1.418091   9.863297   bike"
      ]
     },
     "execution_count": 10,
     "metadata": {},
     "output_type": "execute_result"
    }
   ],
   "source": [
    "#connect to the database\n",
    "db = sqlite3.connect(database)\n",
    "\n",
    "query = \"SELECT * FROM HA_test_phone1;\"\n",
    "df = pd.read_sql_query(query,db)\n",
    "db.close()\n",
    "df.head()"
   ]
  },
  {
   "cell_type": "code",
   "execution_count": 11,
   "metadata": {},
   "outputs": [
    {
     "data": {
      "text/plain": [
       "0            bike\n",
       "1            walk\n",
       "2            walk\n",
       "3             sit\n",
       "4            bike\n",
       "5           stand\n",
       "6             sit\n",
       "7        stairsup\n",
       "8        stairsup\n",
       "9            walk\n",
       "10          stand\n",
       "11       stairsup\n",
       "12            sit\n",
       "13           bike\n",
       "14           bike\n",
       "15       stairsup\n",
       "16           bike\n",
       "17            sit\n",
       "18     stairsdown\n",
       "19          stand\n",
       "20          stand\n",
       "21          stand\n",
       "22          stand\n",
       "23            sit\n",
       "24            sit\n",
       "25           walk\n",
       "26           walk\n",
       "27          stand\n",
       "28           bike\n",
       "29       stairsup\n",
       "          ...    \n",
       "970          bike\n",
       "971      stairsup\n",
       "972      stairsup\n",
       "973         stand\n",
       "974           sit\n",
       "975          walk\n",
       "976           sit\n",
       "977          walk\n",
       "978          bike\n",
       "979         stand\n",
       "980          walk\n",
       "981          bike\n",
       "982           sit\n",
       "983         stand\n",
       "984    stairsdown\n",
       "985    stairsdown\n",
       "986    stairsdown\n",
       "987    stairsdown\n",
       "988          bike\n",
       "989      stairsup\n",
       "990      stairsup\n",
       "991      stairsup\n",
       "992      stairsup\n",
       "993      stairsup\n",
       "994          bike\n",
       "995         stand\n",
       "996         stand\n",
       "997         stand\n",
       "998      stairsup\n",
       "999          bike\n",
       "Name: Status, Length: 1000, dtype: object"
      ]
     },
     "execution_count": 11,
     "metadata": {},
     "output_type": "execute_result"
    }
   ],
   "source": [
    "y_test = df[\"Status\"]\n",
    "y_test"
   ]
  },
  {
   "cell_type": "code",
   "execution_count": 13,
   "metadata": {},
   "outputs": [
    {
     "data": {
      "text/html": [
       "<div>\n",
       "<style scoped>\n",
       "    .dataframe tbody tr th:only-of-type {\n",
       "        vertical-align: middle;\n",
       "    }\n",
       "\n",
       "    .dataframe tbody tr th {\n",
       "        vertical-align: top;\n",
       "    }\n",
       "\n",
       "    .dataframe thead th {\n",
       "        text-align: right;\n",
       "    }\n",
       "</style>\n",
       "<table border=\"1\" class=\"dataframe\">\n",
       "  <thead>\n",
       "    <tr style=\"text-align: right;\">\n",
       "      <th></th>\n",
       "      <th>x</th>\n",
       "      <th>y</th>\n",
       "      <th>z</th>\n",
       "    </tr>\n",
       "  </thead>\n",
       "  <tbody>\n",
       "    <tr>\n",
       "      <th>0</th>\n",
       "      <td>-1.725723</td>\n",
       "      <td>-0.713531</td>\n",
       "      <td>5.246567</td>\n",
       "    </tr>\n",
       "    <tr>\n",
       "      <th>1</th>\n",
       "      <td>-6.947235</td>\n",
       "      <td>0.870163</td>\n",
       "      <td>12.201019</td>\n",
       "    </tr>\n",
       "    <tr>\n",
       "      <th>2</th>\n",
       "      <td>-2.430313</td>\n",
       "      <td>-2.883240</td>\n",
       "      <td>11.265335</td>\n",
       "    </tr>\n",
       "    <tr>\n",
       "      <th>3</th>\n",
       "      <td>5.292801</td>\n",
       "      <td>0.265991</td>\n",
       "      <td>8.349380</td>\n",
       "    </tr>\n",
       "    <tr>\n",
       "      <th>4</th>\n",
       "      <td>-2.705246</td>\n",
       "      <td>1.418091</td>\n",
       "      <td>9.863297</td>\n",
       "    </tr>\n",
       "  </tbody>\n",
       "</table>\n",
       "</div>"
      ],
      "text/plain": [
       "          x         y          z\n",
       "0 -1.725723 -0.713531   5.246567\n",
       "1 -6.947235  0.870163  12.201019\n",
       "2 -2.430313 -2.883240  11.265335\n",
       "3  5.292801  0.265991   8.349380\n",
       "4 -2.705246  1.418091   9.863297"
      ]
     },
     "execution_count": 13,
     "metadata": {},
     "output_type": "execute_result"
    }
   ],
   "source": [
    "X_test = df.iloc[:,1:4]\n",
    "X_test.head()"
   ]
  },
  {
   "cell_type": "code",
   "execution_count": 14,
   "metadata": {},
   "outputs": [],
   "source": [
    "#Load the Scaled function for LR model\n",
    "from sklearn.externals.joblib import dump, load\n",
    "X_scaler = load('HAP_scaler.bin')"
   ]
  },
  {
   "cell_type": "code",
   "execution_count": 15,
   "metadata": {},
   "outputs": [],
   "source": [
    "#Scales X_test data\n",
    "X_test_scaled = X_scaler.transform(X_test)  "
   ]
  },
  {
   "cell_type": "code",
   "execution_count": 16,
   "metadata": {},
   "outputs": [],
   "source": [
    "#Load Label Encoder\n",
    "label_encoder = load('HAP_label_encoder.bin')"
   ]
  },
  {
   "cell_type": "code",
   "execution_count": 17,
   "metadata": {},
   "outputs": [
    {
     "name": "stderr",
     "output_type": "stream",
     "text": [
      "Using TensorFlow backend.\n"
     ]
    }
   ],
   "source": [
    "from keras.utils import to_categorical\n",
    "encoded_y_test = label_encoder.transform(y_test)\n",
    "y_test_categorical = to_categorical(encoded_y_test)"
   ]
  },
  {
   "cell_type": "code",
   "execution_count": 19,
   "metadata": {},
   "outputs": [],
   "source": [
    "import numpy as np\n",
    "X_test_scaled = np.reshape(X_test_scaled, (X_test_scaled.shape[0],1,X_test_scaled.shape[1]))\n",
    "X_test_scaled = np.array(X_test_scaled)"
   ]
  },
  {
   "cell_type": "code",
   "execution_count": 21,
   "metadata": {},
   "outputs": [
    {
     "name": "stdout",
     "output_type": "stream",
     "text": [
      "WARNING:tensorflow:From C:\\Users\\asi40\\.conda\\envs\\PythonData\\lib\\site-packages\\tensorflow\\python\\ops\\nn_impl.py:180: add_dispatch_support.<locals>.wrapper (from tensorflow.python.ops.array_ops) is deprecated and will be removed in a future version.\n",
      "Instructions for updating:\n",
      "Use tf.where in 2.0, which has the same broadcast rule as np.where\n",
      "WARNING:tensorflow:From C:\\Users\\asi40\\.conda\\envs\\PythonData\\lib\\site-packages\\keras\\backend\\tensorflow_backend.py:422: The name tf.global_variables is deprecated. Please use tf.compat.v1.global_variables instead.\n",
      "\n"
     ]
    }
   ],
   "source": [
    "#Import a model (NN)\n",
    "from keras.models import load_model\n",
    "modeln1 = \"HA_RNN1_PhoneT.h5\"\n",
    "model = load_model(modeln1)"
   ]
  },
  {
   "cell_type": "code",
   "execution_count": 22,
   "metadata": {},
   "outputs": [
    {
     "name": "stdout",
     "output_type": "stream",
     "text": [
      "Normal Neural Network - Loss: 0.29502049684524534, Accuracy: 0.8705000281333923\n"
     ]
    }
   ],
   "source": [
    "model_loss, model_accuracy = model.evaluate(X_test_scaled, y_test_categorical, verbose=2)\n",
    "print(f\"Normal Neural Network - Loss: {model_loss}, Accuracy: {model_accuracy}\")"
   ]
  },
  {
   "cell_type": "code",
   "execution_count": 26,
   "metadata": {},
   "outputs": [],
   "source": [
    "encoded_predictions = model.predict_classes(X_test_scaled[:10])\n",
    "prediction_labels = label_encoder.inverse_transform(encoded_predictions)"
   ]
  },
  {
   "cell_type": "code",
   "execution_count": 27,
   "metadata": {},
   "outputs": [
    {
     "name": "stdout",
     "output_type": "stream",
     "text": [
      "Predicted classes: ['walk' 'walk' 'bike' 'sit' 'bike' 'stand' 'sit' 'sit' 'bike' 'bike']\n",
      "Actual Labels: ['bike', 'walk', 'walk', 'sit', 'bike', 'stand', 'sit', 'stairsup', 'stairsup', 'walk']\n"
     ]
    }
   ],
   "source": [
    "print(f\"Predicted classes: {prediction_labels}\")\n",
    "print(f\"Actual Labels: {list(y_test[:10])}\")"
   ]
  },
  {
   "cell_type": "code",
   "execution_count": null,
   "metadata": {},
   "outputs": [],
   "source": []
  }
 ],
 "metadata": {
  "kernelspec": {
   "display_name": "Python [conda env:PythonData]",
   "language": "python",
   "name": "conda-env-PythonData-py"
  },
  "language_info": {
   "codemirror_mode": {
    "name": "ipython",
    "version": 3
   },
   "file_extension": ".py",
   "mimetype": "text/x-python",
   "name": "python",
   "nbconvert_exporter": "python",
   "pygments_lexer": "ipython3",
   "version": "3.6.8"
  }
 },
 "nbformat": 4,
 "nbformat_minor": 2
}
