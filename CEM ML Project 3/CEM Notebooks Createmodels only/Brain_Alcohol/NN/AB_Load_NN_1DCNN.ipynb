{
 "cells": [
  {
   "cell_type": "code",
   "execution_count": 1,
   "metadata": {},
   "outputs": [],
   "source": [
    "#Import Dependencies\n",
    "import csv, sqlite3\n",
    "import pandas as pd"
   ]
  },
  {
   "cell_type": "code",
   "execution_count": 2,
   "metadata": {},
   "outputs": [],
   "source": [
    "#DATABASE name\n",
    "database = '../data/project3db.sqlite'"
   ]
  },
  {
   "cell_type": "code",
   "execution_count": 3,
   "metadata": {},
   "outputs": [
    {
     "name": "stdout",
     "output_type": "stream",
     "text": [
      "Alc_test1\n",
      "sqlite_sequence\n",
      "HA_test_phone1\n",
      "HA_test_watch1\n"
     ]
    }
   ],
   "source": [
    "db = sqlite3.connect(database)\n",
    "cursor = db.cursor()\n",
    "res = cursor.execute(\"SELECT name FROM sqlite_master WHERE type='table';\")\n",
    "for name in res:\n",
    "    print (name[0])\n",
    "db.close()"
   ]
  },
  {
   "cell_type": "code",
   "execution_count": 4,
   "metadata": {},
   "outputs": [
    {
     "data": {
      "text/html": [
       "<div>\n",
       "<style scoped>\n",
       "    .dataframe tbody tr th:only-of-type {\n",
       "        vertical-align: middle;\n",
       "    }\n",
       "\n",
       "    .dataframe tbody tr th {\n",
       "        vertical-align: top;\n",
       "    }\n",
       "\n",
       "    .dataframe thead th {\n",
       "        text-align: right;\n",
       "    }\n",
       "</style>\n",
       "<table border=\"1\" class=\"dataframe\">\n",
       "  <thead>\n",
       "    <tr style=\"text-align: right;\">\n",
       "      <th></th>\n",
       "      <th>rec_id</th>\n",
       "      <th>FP1</th>\n",
       "      <th>FP2</th>\n",
       "      <th>F7</th>\n",
       "      <th>F8</th>\n",
       "      <th>AF1</th>\n",
       "      <th>AF2</th>\n",
       "      <th>FZ</th>\n",
       "      <th>F4</th>\n",
       "      <th>F3</th>\n",
       "      <th>...</th>\n",
       "      <th>PO8</th>\n",
       "      <th>FCZ</th>\n",
       "      <th>POZ</th>\n",
       "      <th>OZ</th>\n",
       "      <th>P2</th>\n",
       "      <th>P1</th>\n",
       "      <th>CPZ</th>\n",
       "      <th>nd</th>\n",
       "      <th>Y</th>\n",
       "      <th>Status</th>\n",
       "    </tr>\n",
       "  </thead>\n",
       "  <tbody>\n",
       "    <tr>\n",
       "      <th>0</th>\n",
       "      <td>1</td>\n",
       "      <td>-42.582</td>\n",
       "      <td>-3.662</td>\n",
       "      <td>5.910</td>\n",
       "      <td>5.697</td>\n",
       "      <td>8.382</td>\n",
       "      <td>7.619</td>\n",
       "      <td>6.877</td>\n",
       "      <td>6.409</td>\n",
       "      <td>9.013</td>\n",
       "      <td>...</td>\n",
       "      <td>3.174</td>\n",
       "      <td>3.611</td>\n",
       "      <td>0.397</td>\n",
       "      <td>1.007</td>\n",
       "      <td>1.587</td>\n",
       "      <td>-2.299</td>\n",
       "      <td>-1.780</td>\n",
       "      <td>3.560</td>\n",
       "      <td>8.759</td>\n",
       "      <td>alcoholic</td>\n",
       "    </tr>\n",
       "    <tr>\n",
       "      <th>1</th>\n",
       "      <td>2</td>\n",
       "      <td>11.587</td>\n",
       "      <td>5.473</td>\n",
       "      <td>15.188</td>\n",
       "      <td>11.983</td>\n",
       "      <td>13.550</td>\n",
       "      <td>6.907</td>\n",
       "      <td>5.229</td>\n",
       "      <td>0.122</td>\n",
       "      <td>5.615</td>\n",
       "      <td>...</td>\n",
       "      <td>4.700</td>\n",
       "      <td>3.347</td>\n",
       "      <td>6.460</td>\n",
       "      <td>5.585</td>\n",
       "      <td>4.506</td>\n",
       "      <td>0.254</td>\n",
       "      <td>-0.214</td>\n",
       "      <td>17.385</td>\n",
       "      <td>18.473</td>\n",
       "      <td>control</td>\n",
       "    </tr>\n",
       "    <tr>\n",
       "      <th>2</th>\n",
       "      <td>3</td>\n",
       "      <td>-5.554</td>\n",
       "      <td>-8.077</td>\n",
       "      <td>-1.465</td>\n",
       "      <td>-2.136</td>\n",
       "      <td>-7.853</td>\n",
       "      <td>-6.989</td>\n",
       "      <td>-5.717</td>\n",
       "      <td>1.088</td>\n",
       "      <td>-5.656</td>\n",
       "      <td>...</td>\n",
       "      <td>-8.321</td>\n",
       "      <td>-1.221</td>\n",
       "      <td>-14.781</td>\n",
       "      <td>-14.191</td>\n",
       "      <td>-11.597</td>\n",
       "      <td>-7.935</td>\n",
       "      <td>-3.001</td>\n",
       "      <td>-8.006</td>\n",
       "      <td>-4.262</td>\n",
       "      <td>alcoholic</td>\n",
       "    </tr>\n",
       "    <tr>\n",
       "      <th>3</th>\n",
       "      <td>4</td>\n",
       "      <td>-3.296</td>\n",
       "      <td>-0.214</td>\n",
       "      <td>-0.326</td>\n",
       "      <td>5.910</td>\n",
       "      <td>-6.500</td>\n",
       "      <td>-2.736</td>\n",
       "      <td>-7.355</td>\n",
       "      <td>-6.480</td>\n",
       "      <td>-6.317</td>\n",
       "      <td>...</td>\n",
       "      <td>18.545</td>\n",
       "      <td>-5.086</td>\n",
       "      <td>8.565</td>\n",
       "      <td>10.010</td>\n",
       "      <td>8.097</td>\n",
       "      <td>8.596</td>\n",
       "      <td>6.053</td>\n",
       "      <td>8.474</td>\n",
       "      <td>8.341</td>\n",
       "      <td>alcoholic</td>\n",
       "    </tr>\n",
       "    <tr>\n",
       "      <th>4</th>\n",
       "      <td>5</td>\n",
       "      <td>-4.547</td>\n",
       "      <td>-3.174</td>\n",
       "      <td>-1.261</td>\n",
       "      <td>-6.042</td>\n",
       "      <td>-5.778</td>\n",
       "      <td>-4.639</td>\n",
       "      <td>-9.084</td>\n",
       "      <td>-3.082</td>\n",
       "      <td>-6.856</td>\n",
       "      <td>...</td>\n",
       "      <td>-11.902</td>\n",
       "      <td>-6.999</td>\n",
       "      <td>8.667</td>\n",
       "      <td>2.665</td>\n",
       "      <td>11.709</td>\n",
       "      <td>9.511</td>\n",
       "      <td>6.958</td>\n",
       "      <td>3.855</td>\n",
       "      <td>4.659</td>\n",
       "      <td>alcoholic</td>\n",
       "    </tr>\n",
       "  </tbody>\n",
       "</table>\n",
       "<p>5 rows × 66 columns</p>\n",
       "</div>"
      ],
      "text/plain": [
       "   rec_id     FP1    FP2      F7      F8     AF1    AF2     FZ     F4     F3  \\\n",
       "0       1 -42.582 -3.662   5.910   5.697   8.382  7.619  6.877  6.409  9.013   \n",
       "1       2  11.587  5.473  15.188  11.983  13.550  6.907  5.229  0.122  5.615   \n",
       "2       3  -5.554 -8.077  -1.465  -2.136  -7.853 -6.989 -5.717  1.088 -5.656   \n",
       "3       4  -3.296 -0.214  -0.326   5.910  -6.500 -2.736 -7.355 -6.480 -6.317   \n",
       "4       5  -4.547 -3.174  -1.261  -6.042  -5.778 -4.639 -9.084 -3.082 -6.856   \n",
       "\n",
       "   ...     PO8    FCZ     POZ      OZ      P2     P1    CPZ      nd       Y  \\\n",
       "0  ...   3.174  3.611   0.397   1.007   1.587 -2.299 -1.780   3.560   8.759   \n",
       "1  ...   4.700  3.347   6.460   5.585   4.506  0.254 -0.214  17.385  18.473   \n",
       "2  ...  -8.321 -1.221 -14.781 -14.191 -11.597 -7.935 -3.001  -8.006  -4.262   \n",
       "3  ...  18.545 -5.086   8.565  10.010   8.097  8.596  6.053   8.474   8.341   \n",
       "4  ... -11.902 -6.999   8.667   2.665  11.709  9.511  6.958   3.855   4.659   \n",
       "\n",
       "      Status  \n",
       "0  alcoholic  \n",
       "1    control  \n",
       "2  alcoholic  \n",
       "3  alcoholic  \n",
       "4  alcoholic  \n",
       "\n",
       "[5 rows x 66 columns]"
      ]
     },
     "execution_count": 4,
     "metadata": {},
     "output_type": "execute_result"
    }
   ],
   "source": [
    "#connect to the database\n",
    "db = sqlite3.connect(database)\n",
    "\n",
    "query = \"SELECT * FROM Alc_test1;\"\n",
    "df = pd.read_sql_query(query,db)\n",
    "db.close()\n",
    "df.head()"
   ]
  },
  {
   "cell_type": "code",
   "execution_count": 5,
   "metadata": {},
   "outputs": [
    {
     "data": {
      "text/plain": [
       "0      alcoholic\n",
       "1        control\n",
       "2      alcoholic\n",
       "3      alcoholic\n",
       "4      alcoholic\n",
       "5      alcoholic\n",
       "6      alcoholic\n",
       "7      alcoholic\n",
       "8      alcoholic\n",
       "9        control\n",
       "10       control\n",
       "11     alcoholic\n",
       "12     alcoholic\n",
       "13       control\n",
       "14     alcoholic\n",
       "15     alcoholic\n",
       "16     alcoholic\n",
       "17       control\n",
       "18     alcoholic\n",
       "19     alcoholic\n",
       "20     alcoholic\n",
       "21       control\n",
       "22       control\n",
       "23     alcoholic\n",
       "24     alcoholic\n",
       "25     alcoholic\n",
       "26     alcoholic\n",
       "27     alcoholic\n",
       "28       control\n",
       "29     alcoholic\n",
       "         ...    \n",
       "970      control\n",
       "971    alcoholic\n",
       "972    alcoholic\n",
       "973    alcoholic\n",
       "974    alcoholic\n",
       "975    alcoholic\n",
       "976    alcoholic\n",
       "977      control\n",
       "978    alcoholic\n",
       "979      control\n",
       "980    alcoholic\n",
       "981      control\n",
       "982      control\n",
       "983    alcoholic\n",
       "984    alcoholic\n",
       "985    alcoholic\n",
       "986    alcoholic\n",
       "987    alcoholic\n",
       "988    alcoholic\n",
       "989    alcoholic\n",
       "990    alcoholic\n",
       "991    alcoholic\n",
       "992    alcoholic\n",
       "993      control\n",
       "994    alcoholic\n",
       "995    alcoholic\n",
       "996    alcoholic\n",
       "997    alcoholic\n",
       "998      control\n",
       "999      control\n",
       "Name: Status, Length: 1000, dtype: object"
      ]
     },
     "execution_count": 5,
     "metadata": {},
     "output_type": "execute_result"
    }
   ],
   "source": [
    "y_test = df[\"Status\"]\n",
    "y_test"
   ]
  },
  {
   "cell_type": "code",
   "execution_count": 7,
   "metadata": {},
   "outputs": [
    {
     "data": {
      "text/html": [
       "<div>\n",
       "<style scoped>\n",
       "    .dataframe tbody tr th:only-of-type {\n",
       "        vertical-align: middle;\n",
       "    }\n",
       "\n",
       "    .dataframe tbody tr th {\n",
       "        vertical-align: top;\n",
       "    }\n",
       "\n",
       "    .dataframe thead th {\n",
       "        text-align: right;\n",
       "    }\n",
       "</style>\n",
       "<table border=\"1\" class=\"dataframe\">\n",
       "  <thead>\n",
       "    <tr style=\"text-align: right;\">\n",
       "      <th></th>\n",
       "      <th>FP1</th>\n",
       "      <th>FP2</th>\n",
       "      <th>F7</th>\n",
       "      <th>F8</th>\n",
       "      <th>AF1</th>\n",
       "      <th>AF2</th>\n",
       "      <th>FZ</th>\n",
       "      <th>F4</th>\n",
       "      <th>F3</th>\n",
       "      <th>FC6</th>\n",
       "      <th>...</th>\n",
       "      <th>PO7</th>\n",
       "      <th>PO8</th>\n",
       "      <th>FCZ</th>\n",
       "      <th>POZ</th>\n",
       "      <th>OZ</th>\n",
       "      <th>P2</th>\n",
       "      <th>P1</th>\n",
       "      <th>CPZ</th>\n",
       "      <th>nd</th>\n",
       "      <th>Y</th>\n",
       "    </tr>\n",
       "  </thead>\n",
       "  <tbody>\n",
       "    <tr>\n",
       "      <th>0</th>\n",
       "      <td>-42.582</td>\n",
       "      <td>-3.662</td>\n",
       "      <td>5.910</td>\n",
       "      <td>5.697</td>\n",
       "      <td>8.382</td>\n",
       "      <td>7.619</td>\n",
       "      <td>6.877</td>\n",
       "      <td>6.409</td>\n",
       "      <td>9.013</td>\n",
       "      <td>5.056</td>\n",
       "      <td>...</td>\n",
       "      <td>-2.472</td>\n",
       "      <td>3.174</td>\n",
       "      <td>3.611</td>\n",
       "      <td>0.397</td>\n",
       "      <td>1.007</td>\n",
       "      <td>1.587</td>\n",
       "      <td>-2.299</td>\n",
       "      <td>-1.780</td>\n",
       "      <td>3.560</td>\n",
       "      <td>8.759</td>\n",
       "    </tr>\n",
       "    <tr>\n",
       "      <th>1</th>\n",
       "      <td>11.587</td>\n",
       "      <td>5.473</td>\n",
       "      <td>15.188</td>\n",
       "      <td>11.983</td>\n",
       "      <td>13.550</td>\n",
       "      <td>6.907</td>\n",
       "      <td>5.229</td>\n",
       "      <td>0.122</td>\n",
       "      <td>5.615</td>\n",
       "      <td>2.543</td>\n",
       "      <td>...</td>\n",
       "      <td>4.415</td>\n",
       "      <td>4.700</td>\n",
       "      <td>3.347</td>\n",
       "      <td>6.460</td>\n",
       "      <td>5.585</td>\n",
       "      <td>4.506</td>\n",
       "      <td>0.254</td>\n",
       "      <td>-0.214</td>\n",
       "      <td>17.385</td>\n",
       "      <td>18.473</td>\n",
       "    </tr>\n",
       "    <tr>\n",
       "      <th>2</th>\n",
       "      <td>-5.554</td>\n",
       "      <td>-8.077</td>\n",
       "      <td>-1.465</td>\n",
       "      <td>-2.136</td>\n",
       "      <td>-7.853</td>\n",
       "      <td>-6.989</td>\n",
       "      <td>-5.717</td>\n",
       "      <td>1.088</td>\n",
       "      <td>-5.656</td>\n",
       "      <td>-1.027</td>\n",
       "      <td>...</td>\n",
       "      <td>-1.017</td>\n",
       "      <td>-8.321</td>\n",
       "      <td>-1.221</td>\n",
       "      <td>-14.781</td>\n",
       "      <td>-14.191</td>\n",
       "      <td>-11.597</td>\n",
       "      <td>-7.935</td>\n",
       "      <td>-3.001</td>\n",
       "      <td>-8.006</td>\n",
       "      <td>-4.262</td>\n",
       "    </tr>\n",
       "    <tr>\n",
       "      <th>3</th>\n",
       "      <td>-3.296</td>\n",
       "      <td>-0.214</td>\n",
       "      <td>-0.326</td>\n",
       "      <td>5.910</td>\n",
       "      <td>-6.500</td>\n",
       "      <td>-2.736</td>\n",
       "      <td>-7.355</td>\n",
       "      <td>-6.480</td>\n",
       "      <td>-6.317</td>\n",
       "      <td>-0.783</td>\n",
       "      <td>...</td>\n",
       "      <td>12.349</td>\n",
       "      <td>18.545</td>\n",
       "      <td>-5.086</td>\n",
       "      <td>8.565</td>\n",
       "      <td>10.010</td>\n",
       "      <td>8.097</td>\n",
       "      <td>8.596</td>\n",
       "      <td>6.053</td>\n",
       "      <td>8.474</td>\n",
       "      <td>8.341</td>\n",
       "    </tr>\n",
       "    <tr>\n",
       "      <th>4</th>\n",
       "      <td>-4.547</td>\n",
       "      <td>-3.174</td>\n",
       "      <td>-1.261</td>\n",
       "      <td>-6.042</td>\n",
       "      <td>-5.778</td>\n",
       "      <td>-4.639</td>\n",
       "      <td>-9.084</td>\n",
       "      <td>-3.082</td>\n",
       "      <td>-6.856</td>\n",
       "      <td>-1.170</td>\n",
       "      <td>...</td>\n",
       "      <td>0.661</td>\n",
       "      <td>-11.902</td>\n",
       "      <td>-6.999</td>\n",
       "      <td>8.667</td>\n",
       "      <td>2.665</td>\n",
       "      <td>11.709</td>\n",
       "      <td>9.511</td>\n",
       "      <td>6.958</td>\n",
       "      <td>3.855</td>\n",
       "      <td>4.659</td>\n",
       "    </tr>\n",
       "  </tbody>\n",
       "</table>\n",
       "<p>5 rows × 64 columns</p>\n",
       "</div>"
      ],
      "text/plain": [
       "      FP1    FP2      F7      F8     AF1    AF2     FZ     F4     F3    FC6  \\\n",
       "0 -42.582 -3.662   5.910   5.697   8.382  7.619  6.877  6.409  9.013  5.056   \n",
       "1  11.587  5.473  15.188  11.983  13.550  6.907  5.229  0.122  5.615  2.543   \n",
       "2  -5.554 -8.077  -1.465  -2.136  -7.853 -6.989 -5.717  1.088 -5.656 -1.027   \n",
       "3  -3.296 -0.214  -0.326   5.910  -6.500 -2.736 -7.355 -6.480 -6.317 -0.783   \n",
       "4  -4.547 -3.174  -1.261  -6.042  -5.778 -4.639 -9.084 -3.082 -6.856 -1.170   \n",
       "\n",
       "   ...     PO7     PO8    FCZ     POZ      OZ      P2     P1    CPZ      nd  \\\n",
       "0  ...  -2.472   3.174  3.611   0.397   1.007   1.587 -2.299 -1.780   3.560   \n",
       "1  ...   4.415   4.700  3.347   6.460   5.585   4.506  0.254 -0.214  17.385   \n",
       "2  ...  -1.017  -8.321 -1.221 -14.781 -14.191 -11.597 -7.935 -3.001  -8.006   \n",
       "3  ...  12.349  18.545 -5.086   8.565  10.010   8.097  8.596  6.053   8.474   \n",
       "4  ...   0.661 -11.902 -6.999   8.667   2.665  11.709  9.511  6.958   3.855   \n",
       "\n",
       "        Y  \n",
       "0   8.759  \n",
       "1  18.473  \n",
       "2  -4.262  \n",
       "3   8.341  \n",
       "4   4.659  \n",
       "\n",
       "[5 rows x 64 columns]"
      ]
     },
     "execution_count": 7,
     "metadata": {},
     "output_type": "execute_result"
    }
   ],
   "source": [
    "X_test = df.iloc[:,1:65]\n",
    "X_test.head()"
   ]
  },
  {
   "cell_type": "code",
   "execution_count": 8,
   "metadata": {},
   "outputs": [],
   "source": [
    "#Load the Scaled function for LR model\n",
    "from sklearn.externals.joblib import dump, load\n",
    "X_scaler = load('Alc_Brain_LR_scaler.bin')"
   ]
  },
  {
   "cell_type": "code",
   "execution_count": 9,
   "metadata": {},
   "outputs": [],
   "source": [
    "#Scales X_test data\n",
    "X_test_scaled = X_scaler.transform(X_test)  "
   ]
  },
  {
   "cell_type": "code",
   "execution_count": 11,
   "metadata": {},
   "outputs": [],
   "source": [
    "#Load Label Encoder\n",
    "label_encoder = load('AB_NN_label_encoder.bin')"
   ]
  },
  {
   "cell_type": "code",
   "execution_count": 13,
   "metadata": {},
   "outputs": [],
   "source": [
    "from keras.utils import to_categorical\n",
    "encoded_y_test = label_encoder.transform(y_test)\n",
    "y_test_categorical = to_categorical(encoded_y_test)"
   ]
  },
  {
   "cell_type": "code",
   "execution_count": 14,
   "metadata": {},
   "outputs": [],
   "source": [
    "#Import a model (NN)\n",
    "from keras.models import load_model\n",
    "modeln1 = \"ALC_NN_FDF1.h5\"\n",
    "model = load_model(modeln1)\n"
   ]
  },
  {
   "cell_type": "code",
   "execution_count": 15,
   "metadata": {},
   "outputs": [
    {
     "name": "stdout",
     "output_type": "stream",
     "text": [
      "Normal Neural Network - Loss: 0.17668986213207244, Accuracy: 0.921999990940094\n"
     ]
    }
   ],
   "source": [
    "#Evaluate accuracy of model with test data\n",
    "model_loss, model_accuracy = model.evaluate(X_test_scaled, y_test_categorical, verbose=2)\n",
    "print(f\"Normal Neural Network - Loss: {model_loss}, Accuracy: {model_accuracy}\")"
   ]
  },
  {
   "cell_type": "code",
   "execution_count": 16,
   "metadata": {},
   "outputs": [],
   "source": [
    "#Example of predictions with model\n",
    "encoded_predictions = model.predict_classes(X_test_scaled[:5])\n",
    "prediction_labels = label_encoder.inverse_transform(encoded_predictions)"
   ]
  },
  {
   "cell_type": "code",
   "execution_count": 17,
   "metadata": {},
   "outputs": [
    {
     "name": "stdout",
     "output_type": "stream",
     "text": [
      "Predicted classes: ['alcoholic' 'control' 'alcoholic' 'alcoholic' 'alcoholic']\n",
      "Actual Labels: ['alcoholic', 'control', 'alcoholic', 'alcoholic', 'alcoholic']\n"
     ]
    }
   ],
   "source": [
    "print(f\"Predicted classes: {prediction_labels}\")\n",
    "print(f\"Actual Labels: {list(y_test[:5])}\")"
   ]
  },
  {
   "cell_type": "code",
   "execution_count": 18,
   "metadata": {},
   "outputs": [
    {
     "name": "stdout",
     "output_type": "stream",
     "text": [
      "WARNING:tensorflow:From C:\\Users\\asi40\\.conda\\envs\\PythonData\\lib\\site-packages\\keras\\backend\\tensorflow_backend.py:4070: The name tf.nn.max_pool is deprecated. Please use tf.nn.max_pool2d instead.\n",
      "\n"
     ]
    }
   ],
   "source": [
    "#Import second model (1CDNN)\n",
    "modeln1 = \"alcoholic_model_1DCNN1AlexData1.h5\"\n",
    "model = load_model(modeln1)"
   ]
  },
  {
   "cell_type": "code",
   "execution_count": 19,
   "metadata": {},
   "outputs": [
    {
     "name": "stdout",
     "output_type": "stream",
     "text": [
      "Normal Neural Network - Loss: 0.15482808071374893, Accuracy: 0.9359999895095825\n"
     ]
    }
   ],
   "source": [
    "#Evaluate accuracy of model with test data\n",
    "model_loss, model_accuracy = model.evaluate(X_test_scaled, y_test_categorical, verbose=2)\n",
    "print(f\"Normal Neural Network - Loss: {model_loss}, Accuracy: {model_accuracy}\")"
   ]
  },
  {
   "cell_type": "code",
   "execution_count": 20,
   "metadata": {},
   "outputs": [],
   "source": [
    "#Example of predictions with model\n",
    "encoded_predictions = model.predict_classes(X_test_scaled[:5])\n",
    "prediction_labels = label_encoder.inverse_transform(encoded_predictions)"
   ]
  },
  {
   "cell_type": "code",
   "execution_count": 21,
   "metadata": {},
   "outputs": [
    {
     "name": "stdout",
     "output_type": "stream",
     "text": [
      "Predicted classes: ['alcoholic' 'control' 'alcoholic' 'alcoholic' 'control']\n",
      "Actual Labels: ['alcoholic', 'control', 'alcoholic', 'alcoholic', 'alcoholic']\n"
     ]
    }
   ],
   "source": [
    "print(f\"Predicted classes: {prediction_labels}\")\n",
    "print(f\"Actual Labels: {list(y_test[:5])}\")"
   ]
  },
  {
   "cell_type": "code",
   "execution_count": null,
   "metadata": {},
   "outputs": [],
   "source": []
  }
 ],
 "metadata": {
  "kernelspec": {
   "display_name": "Python [conda env:PythonData]",
   "language": "python",
   "name": "conda-env-PythonData-py"
  },
  "language_info": {
   "codemirror_mode": {
    "name": "ipython",
    "version": 3
   },
   "file_extension": ".py",
   "mimetype": "text/x-python",
   "name": "python",
   "nbconvert_exporter": "python",
   "pygments_lexer": "ipython3",
   "version": "3.6.8"
  }
 },
 "nbformat": 4,
 "nbformat_minor": 2
}
