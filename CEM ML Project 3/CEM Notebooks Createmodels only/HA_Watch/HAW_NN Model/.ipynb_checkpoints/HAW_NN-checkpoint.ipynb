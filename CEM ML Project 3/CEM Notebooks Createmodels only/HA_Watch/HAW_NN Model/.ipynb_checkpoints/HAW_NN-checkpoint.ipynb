{
 "cells": [
  {
   "cell_type": "code",
   "execution_count": 1,
   "metadata": {},
   "outputs": [],
   "source": [
    "import pandas as pd\n",
    "import numpy as np"
   ]
  },
  {
   "cell_type": "code",
   "execution_count": 2,
   "metadata": {},
   "outputs": [
    {
     "data": {
      "text/html": [
       "<div>\n",
       "<style scoped>\n",
       "    .dataframe tbody tr th:only-of-type {\n",
       "        vertical-align: middle;\n",
       "    }\n",
       "\n",
       "    .dataframe tbody tr th {\n",
       "        vertical-align: top;\n",
       "    }\n",
       "\n",
       "    .dataframe thead th {\n",
       "        text-align: right;\n",
       "    }\n",
       "</style>\n",
       "<table border=\"1\" class=\"dataframe\">\n",
       "  <thead>\n",
       "    <tr style=\"text-align: right;\">\n",
       "      <th></th>\n",
       "      <th>Index</th>\n",
       "      <th>Arrival_Time</th>\n",
       "      <th>Creation_Time</th>\n",
       "      <th>x</th>\n",
       "      <th>y</th>\n",
       "      <th>z</th>\n",
       "      <th>User</th>\n",
       "      <th>Model</th>\n",
       "      <th>Device</th>\n",
       "      <th>gt</th>\n",
       "    </tr>\n",
       "  </thead>\n",
       "  <tbody>\n",
       "    <tr>\n",
       "      <th>0</th>\n",
       "      <td>0</td>\n",
       "      <td>1424696638740</td>\n",
       "      <td>27920678471000</td>\n",
       "      <td>-0.565032</td>\n",
       "      <td>-9.572019</td>\n",
       "      <td>-0.614113</td>\n",
       "      <td>a</td>\n",
       "      <td>gear</td>\n",
       "      <td>gear_1</td>\n",
       "      <td>stand</td>\n",
       "    </tr>\n",
       "    <tr>\n",
       "      <th>1</th>\n",
       "      <td>1</td>\n",
       "      <td>1424696638740</td>\n",
       "      <td>27920681910000</td>\n",
       "      <td>-0.832584</td>\n",
       "      <td>-9.713276</td>\n",
       "      <td>-0.606930</td>\n",
       "      <td>a</td>\n",
       "      <td>gear</td>\n",
       "      <td>gear_1</td>\n",
       "      <td>stand</td>\n",
       "    </tr>\n",
       "    <tr>\n",
       "      <th>2</th>\n",
       "      <td>2</td>\n",
       "      <td>1424696638740</td>\n",
       "      <td>27920692014000</td>\n",
       "      <td>-1.018134</td>\n",
       "      <td>-9.935339</td>\n",
       "      <td>-0.544082</td>\n",
       "      <td>a</td>\n",
       "      <td>gear</td>\n",
       "      <td>gear_1</td>\n",
       "      <td>stand</td>\n",
       "    </tr>\n",
       "    <tr>\n",
       "      <th>3</th>\n",
       "      <td>3</td>\n",
       "      <td>1424696638741</td>\n",
       "      <td>27920701983000</td>\n",
       "      <td>-1.222838</td>\n",
       "      <td>-10.142437</td>\n",
       "      <td>-0.566229</td>\n",
       "      <td>a</td>\n",
       "      <td>gear</td>\n",
       "      <td>gear_1</td>\n",
       "      <td>stand</td>\n",
       "    </tr>\n",
       "    <tr>\n",
       "      <th>4</th>\n",
       "      <td>4</td>\n",
       "      <td>1424696638741</td>\n",
       "      <td>27920711906000</td>\n",
       "      <td>-1.577180</td>\n",
       "      <td>-10.480618</td>\n",
       "      <td>-0.402824</td>\n",
       "      <td>a</td>\n",
       "      <td>gear</td>\n",
       "      <td>gear_1</td>\n",
       "      <td>stand</td>\n",
       "    </tr>\n",
       "  </tbody>\n",
       "</table>\n",
       "</div>"
      ],
      "text/plain": [
       "   Index   Arrival_Time   Creation_Time         x          y         z User  \\\n",
       "0      0  1424696638740  27920678471000 -0.565032  -9.572019 -0.614113    a   \n",
       "1      1  1424696638740  27920681910000 -0.832584  -9.713276 -0.606930    a   \n",
       "2      2  1424696638740  27920692014000 -1.018134  -9.935339 -0.544082    a   \n",
       "3      3  1424696638741  27920701983000 -1.222838 -10.142437 -0.566229    a   \n",
       "4      4  1424696638741  27920711906000 -1.577180 -10.480618 -0.402824    a   \n",
       "\n",
       "  Model  Device     gt  \n",
       "0  gear  gear_1  stand  \n",
       "1  gear  gear_1  stand  \n",
       "2  gear  gear_1  stand  \n",
       "3  gear  gear_1  stand  \n",
       "4  gear  gear_1  stand  "
      ]
     },
     "execution_count": 2,
     "metadata": {},
     "output_type": "execute_result"
    }
   ],
   "source": [
    "filen = \"../Watch_accelerometer.csv\"\n",
    "df1 = pd.read_csv(filen)\n",
    "df1.head()"
   ]
  },
  {
   "cell_type": "code",
   "execution_count": 3,
   "metadata": {},
   "outputs": [
    {
     "data": {
      "text/html": [
       "<div>\n",
       "<style scoped>\n",
       "    .dataframe tbody tr th:only-of-type {\n",
       "        vertical-align: middle;\n",
       "    }\n",
       "\n",
       "    .dataframe tbody tr th {\n",
       "        vertical-align: top;\n",
       "    }\n",
       "\n",
       "    .dataframe thead th {\n",
       "        text-align: right;\n",
       "    }\n",
       "</style>\n",
       "<table border=\"1\" class=\"dataframe\">\n",
       "  <thead>\n",
       "    <tr style=\"text-align: right;\">\n",
       "      <th></th>\n",
       "      <th>Index</th>\n",
       "      <th>Arrival_Time</th>\n",
       "      <th>Creation_Time</th>\n",
       "      <th>x</th>\n",
       "      <th>y</th>\n",
       "      <th>z</th>\n",
       "      <th>User</th>\n",
       "      <th>Model</th>\n",
       "      <th>Device</th>\n",
       "      <th>gt</th>\n",
       "    </tr>\n",
       "  </thead>\n",
       "  <tbody>\n",
       "    <tr>\n",
       "      <th>0</th>\n",
       "      <td>0</td>\n",
       "      <td>1424696638743</td>\n",
       "      <td>27920678496000</td>\n",
       "      <td>-0.162187</td>\n",
       "      <td>-0.022104</td>\n",
       "      <td>0.059655</td>\n",
       "      <td>a</td>\n",
       "      <td>gear</td>\n",
       "      <td>gear_1</td>\n",
       "      <td>stand</td>\n",
       "    </tr>\n",
       "    <tr>\n",
       "      <th>1</th>\n",
       "      <td>1</td>\n",
       "      <td>1424696638743</td>\n",
       "      <td>27920681926000</td>\n",
       "      <td>-0.183225</td>\n",
       "      <td>-0.061785</td>\n",
       "      <td>0.012517</td>\n",
       "      <td>a</td>\n",
       "      <td>gear</td>\n",
       "      <td>gear_1</td>\n",
       "      <td>stand</td>\n",
       "    </tr>\n",
       "    <tr>\n",
       "      <th>2</th>\n",
       "      <td>2</td>\n",
       "      <td>1424696638743</td>\n",
       "      <td>27920692031000</td>\n",
       "      <td>-0.180829</td>\n",
       "      <td>-0.108657</td>\n",
       "      <td>-0.036485</td>\n",
       "      <td>a</td>\n",
       "      <td>gear</td>\n",
       "      <td>gear_1</td>\n",
       "      <td>stand</td>\n",
       "    </tr>\n",
       "    <tr>\n",
       "      <th>3</th>\n",
       "      <td>3</td>\n",
       "      <td>1424696638743</td>\n",
       "      <td>27920701997000</td>\n",
       "      <td>-0.147805</td>\n",
       "      <td>-0.157925</td>\n",
       "      <td>-0.098537</td>\n",
       "      <td>a</td>\n",
       "      <td>gear</td>\n",
       "      <td>gear_1</td>\n",
       "      <td>stand</td>\n",
       "    </tr>\n",
       "    <tr>\n",
       "      <th>4</th>\n",
       "      <td>7</td>\n",
       "      <td>1424696638744</td>\n",
       "      <td>27920743068000</td>\n",
       "      <td>0.182160</td>\n",
       "      <td>-0.323574</td>\n",
       "      <td>-0.277235</td>\n",
       "      <td>a</td>\n",
       "      <td>gear</td>\n",
       "      <td>gear_1</td>\n",
       "      <td>stand</td>\n",
       "    </tr>\n",
       "  </tbody>\n",
       "</table>\n",
       "</div>"
      ],
      "text/plain": [
       "   Index   Arrival_Time   Creation_Time         x         y         z User  \\\n",
       "0      0  1424696638743  27920678496000 -0.162187 -0.022104  0.059655    a   \n",
       "1      1  1424696638743  27920681926000 -0.183225 -0.061785  0.012517    a   \n",
       "2      2  1424696638743  27920692031000 -0.180829 -0.108657 -0.036485    a   \n",
       "3      3  1424696638743  27920701997000 -0.147805 -0.157925 -0.098537    a   \n",
       "4      7  1424696638744  27920743068000  0.182160 -0.323574 -0.277235    a   \n",
       "\n",
       "  Model  Device     gt  \n",
       "0  gear  gear_1  stand  \n",
       "1  gear  gear_1  stand  \n",
       "2  gear  gear_1  stand  \n",
       "3  gear  gear_1  stand  \n",
       "4  gear  gear_1  stand  "
      ]
     },
     "execution_count": 3,
     "metadata": {},
     "output_type": "execute_result"
    }
   ],
   "source": [
    "filen1 = \"../Watch_gyroscope.csv\"\n",
    "df2 = pd.read_csv(filen1)\n",
    "df2.head()"
   ]
  },
  {
   "cell_type": "code",
   "execution_count": 4,
   "metadata": {},
   "outputs": [
    {
     "data": {
      "text/html": [
       "<div>\n",
       "<style scoped>\n",
       "    .dataframe tbody tr th:only-of-type {\n",
       "        vertical-align: middle;\n",
       "    }\n",
       "\n",
       "    .dataframe tbody tr th {\n",
       "        vertical-align: top;\n",
       "    }\n",
       "\n",
       "    .dataframe thead th {\n",
       "        text-align: right;\n",
       "    }\n",
       "</style>\n",
       "<table border=\"1\" class=\"dataframe\">\n",
       "  <thead>\n",
       "    <tr style=\"text-align: right;\">\n",
       "      <th></th>\n",
       "      <th>Index</th>\n",
       "      <th>Arrival_Time</th>\n",
       "      <th>Creation_Time</th>\n",
       "      <th>x</th>\n",
       "      <th>y</th>\n",
       "      <th>z</th>\n",
       "      <th>User</th>\n",
       "      <th>Model</th>\n",
       "      <th>Device</th>\n",
       "      <th>gt</th>\n",
       "    </tr>\n",
       "  </thead>\n",
       "  <tbody>\n",
       "    <tr>\n",
       "      <th>0</th>\n",
       "      <td>0</td>\n",
       "      <td>1424696638740</td>\n",
       "      <td>27920678471000</td>\n",
       "      <td>-0.565032</td>\n",
       "      <td>-9.572019</td>\n",
       "      <td>-0.614113</td>\n",
       "      <td>a</td>\n",
       "      <td>gear</td>\n",
       "      <td>gear_1</td>\n",
       "      <td>stand</td>\n",
       "    </tr>\n",
       "    <tr>\n",
       "      <th>1</th>\n",
       "      <td>1</td>\n",
       "      <td>1424696638740</td>\n",
       "      <td>27920681910000</td>\n",
       "      <td>-0.832584</td>\n",
       "      <td>-9.713276</td>\n",
       "      <td>-0.606930</td>\n",
       "      <td>a</td>\n",
       "      <td>gear</td>\n",
       "      <td>gear_1</td>\n",
       "      <td>stand</td>\n",
       "    </tr>\n",
       "    <tr>\n",
       "      <th>2</th>\n",
       "      <td>2</td>\n",
       "      <td>1424696638740</td>\n",
       "      <td>27920692014000</td>\n",
       "      <td>-1.018134</td>\n",
       "      <td>-9.935339</td>\n",
       "      <td>-0.544082</td>\n",
       "      <td>a</td>\n",
       "      <td>gear</td>\n",
       "      <td>gear_1</td>\n",
       "      <td>stand</td>\n",
       "    </tr>\n",
       "    <tr>\n",
       "      <th>3</th>\n",
       "      <td>3</td>\n",
       "      <td>1424696638741</td>\n",
       "      <td>27920701983000</td>\n",
       "      <td>-1.222838</td>\n",
       "      <td>-10.142437</td>\n",
       "      <td>-0.566229</td>\n",
       "      <td>a</td>\n",
       "      <td>gear</td>\n",
       "      <td>gear_1</td>\n",
       "      <td>stand</td>\n",
       "    </tr>\n",
       "    <tr>\n",
       "      <th>4</th>\n",
       "      <td>4</td>\n",
       "      <td>1424696638741</td>\n",
       "      <td>27920711906000</td>\n",
       "      <td>-1.577180</td>\n",
       "      <td>-10.480618</td>\n",
       "      <td>-0.402824</td>\n",
       "      <td>a</td>\n",
       "      <td>gear</td>\n",
       "      <td>gear_1</td>\n",
       "      <td>stand</td>\n",
       "    </tr>\n",
       "  </tbody>\n",
       "</table>\n",
       "</div>"
      ],
      "text/plain": [
       "   Index   Arrival_Time   Creation_Time         x          y         z User  \\\n",
       "0      0  1424696638740  27920678471000 -0.565032  -9.572019 -0.614113    a   \n",
       "1      1  1424696638740  27920681910000 -0.832584  -9.713276 -0.606930    a   \n",
       "2      2  1424696638740  27920692014000 -1.018134  -9.935339 -0.544082    a   \n",
       "3      3  1424696638741  27920701983000 -1.222838 -10.142437 -0.566229    a   \n",
       "4      4  1424696638741  27920711906000 -1.577180 -10.480618 -0.402824    a   \n",
       "\n",
       "  Model  Device     gt  \n",
       "0  gear  gear_1  stand  \n",
       "1  gear  gear_1  stand  \n",
       "2  gear  gear_1  stand  \n",
       "3  gear  gear_1  stand  \n",
       "4  gear  gear_1  stand  "
      ]
     },
     "execution_count": 4,
     "metadata": {},
     "output_type": "execute_result"
    }
   ],
   "source": [
    "df1.append(df2)\n",
    "df1.head()"
   ]
  },
  {
   "cell_type": "code",
   "execution_count": 5,
   "metadata": {},
   "outputs": [
    {
     "data": {
      "text/plain": [
       "Index            3540962\n",
       "Arrival_Time     3540962\n",
       "Creation_Time    3540962\n",
       "x                3540962\n",
       "y                3540962\n",
       "z                3540962\n",
       "User             3540962\n",
       "Model            3540962\n",
       "Device           3540962\n",
       "gt               3020605\n",
       "dtype: int64"
      ]
     },
     "execution_count": 5,
     "metadata": {},
     "output_type": "execute_result"
    }
   ],
   "source": [
    "df1.count()"
   ]
  },
  {
   "cell_type": "code",
   "execution_count": 6,
   "metadata": {},
   "outputs": [
    {
     "data": {
      "text/plain": [
       "array(['stand', nan, 'sit', 'walk', 'stairsup', 'stairsdown', 'bike'],\n",
       "      dtype=object)"
      ]
     },
     "execution_count": 6,
     "metadata": {},
     "output_type": "execute_result"
    }
   ],
   "source": [
    "df1['gt'].unique()"
   ]
  },
  {
   "cell_type": "code",
   "execution_count": 7,
   "metadata": {},
   "outputs": [
    {
     "data": {
      "text/html": [
       "<div>\n",
       "<style scoped>\n",
       "    .dataframe tbody tr th:only-of-type {\n",
       "        vertical-align: middle;\n",
       "    }\n",
       "\n",
       "    .dataframe tbody tr th {\n",
       "        vertical-align: top;\n",
       "    }\n",
       "\n",
       "    .dataframe thead th {\n",
       "        text-align: right;\n",
       "    }\n",
       "</style>\n",
       "<table border=\"1\" class=\"dataframe\">\n",
       "  <thead>\n",
       "    <tr style=\"text-align: right;\">\n",
       "      <th></th>\n",
       "      <th>Index</th>\n",
       "      <th>Arrival_Time</th>\n",
       "      <th>Creation_Time</th>\n",
       "      <th>x</th>\n",
       "      <th>y</th>\n",
       "      <th>z</th>\n",
       "      <th>User</th>\n",
       "      <th>Model</th>\n",
       "      <th>Device</th>\n",
       "      <th>gt</th>\n",
       "    </tr>\n",
       "  </thead>\n",
       "  <tbody>\n",
       "    <tr>\n",
       "      <th>0</th>\n",
       "      <td>0</td>\n",
       "      <td>1424696638740</td>\n",
       "      <td>27920678471000</td>\n",
       "      <td>-0.565032</td>\n",
       "      <td>-9.572019</td>\n",
       "      <td>-0.614113</td>\n",
       "      <td>a</td>\n",
       "      <td>gear</td>\n",
       "      <td>gear_1</td>\n",
       "      <td>stand</td>\n",
       "    </tr>\n",
       "    <tr>\n",
       "      <th>1</th>\n",
       "      <td>1</td>\n",
       "      <td>1424696638740</td>\n",
       "      <td>27920681910000</td>\n",
       "      <td>-0.832584</td>\n",
       "      <td>-9.713276</td>\n",
       "      <td>-0.606930</td>\n",
       "      <td>a</td>\n",
       "      <td>gear</td>\n",
       "      <td>gear_1</td>\n",
       "      <td>stand</td>\n",
       "    </tr>\n",
       "    <tr>\n",
       "      <th>2</th>\n",
       "      <td>2</td>\n",
       "      <td>1424696638740</td>\n",
       "      <td>27920692014000</td>\n",
       "      <td>-1.018134</td>\n",
       "      <td>-9.935339</td>\n",
       "      <td>-0.544082</td>\n",
       "      <td>a</td>\n",
       "      <td>gear</td>\n",
       "      <td>gear_1</td>\n",
       "      <td>stand</td>\n",
       "    </tr>\n",
       "    <tr>\n",
       "      <th>3</th>\n",
       "      <td>3</td>\n",
       "      <td>1424696638741</td>\n",
       "      <td>27920701983000</td>\n",
       "      <td>-1.222838</td>\n",
       "      <td>-10.142437</td>\n",
       "      <td>-0.566229</td>\n",
       "      <td>a</td>\n",
       "      <td>gear</td>\n",
       "      <td>gear_1</td>\n",
       "      <td>stand</td>\n",
       "    </tr>\n",
       "    <tr>\n",
       "      <th>4</th>\n",
       "      <td>4</td>\n",
       "      <td>1424696638741</td>\n",
       "      <td>27920711906000</td>\n",
       "      <td>-1.577180</td>\n",
       "      <td>-10.480618</td>\n",
       "      <td>-0.402824</td>\n",
       "      <td>a</td>\n",
       "      <td>gear</td>\n",
       "      <td>gear_1</td>\n",
       "      <td>stand</td>\n",
       "    </tr>\n",
       "  </tbody>\n",
       "</table>\n",
       "</div>"
      ],
      "text/plain": [
       "   Index   Arrival_Time   Creation_Time         x          y         z User  \\\n",
       "0      0  1424696638740  27920678471000 -0.565032  -9.572019 -0.614113    a   \n",
       "1      1  1424696638740  27920681910000 -0.832584  -9.713276 -0.606930    a   \n",
       "2      2  1424696638740  27920692014000 -1.018134  -9.935339 -0.544082    a   \n",
       "3      3  1424696638741  27920701983000 -1.222838 -10.142437 -0.566229    a   \n",
       "4      4  1424696638741  27920711906000 -1.577180 -10.480618 -0.402824    a   \n",
       "\n",
       "  Model  Device     gt  \n",
       "0  gear  gear_1  stand  \n",
       "1  gear  gear_1  stand  \n",
       "2  gear  gear_1  stand  \n",
       "3  gear  gear_1  stand  \n",
       "4  gear  gear_1  stand  "
      ]
     },
     "execution_count": 7,
     "metadata": {},
     "output_type": "execute_result"
    }
   ],
   "source": [
    "to_stay = ['stand','sit', 'walk', 'stairsup', 'stairsdown', 'bike']\n",
    "df = df1[df1['gt'].isin(to_stay)]\n",
    "df.dropna()\n",
    "df.head()"
   ]
  },
  {
   "cell_type": "code",
   "execution_count": 8,
   "metadata": {},
   "outputs": [
    {
     "data": {
      "text/plain": [
       "Index            3020605\n",
       "Arrival_Time     3020605\n",
       "Creation_Time    3020605\n",
       "x                3020605\n",
       "y                3020605\n",
       "z                3020605\n",
       "User             3020605\n",
       "Model            3020605\n",
       "Device           3020605\n",
       "gt               3020605\n",
       "dtype: int64"
      ]
     },
     "execution_count": 8,
     "metadata": {},
     "output_type": "execute_result"
    }
   ],
   "source": [
    "df.count()"
   ]
  },
  {
   "cell_type": "code",
   "execution_count": 9,
   "metadata": {},
   "outputs": [
    {
     "data": {
      "text/plain": [
       "array(['stand', 'sit', 'walk', 'stairsup', 'stairsdown', 'bike'],\n",
       "      dtype=object)"
      ]
     },
     "execution_count": 9,
     "metadata": {},
     "output_type": "execute_result"
    }
   ],
   "source": [
    "df['gt'].unique()"
   ]
  },
  {
   "cell_type": "code",
   "execution_count": 10,
   "metadata": {},
   "outputs": [
    {
     "data": {
      "text/plain": [
       "0          stand\n",
       "1          stand\n",
       "2          stand\n",
       "3          stand\n",
       "4          stand\n",
       "5          stand\n",
       "6          stand\n",
       "7          stand\n",
       "8          stand\n",
       "9          stand\n",
       "10         stand\n",
       "11         stand\n",
       "12         stand\n",
       "13         stand\n",
       "14         stand\n",
       "15         stand\n",
       "16         stand\n",
       "17         stand\n",
       "18         stand\n",
       "19         stand\n",
       "20         stand\n",
       "21         stand\n",
       "22         stand\n",
       "23         stand\n",
       "24         stand\n",
       "25         stand\n",
       "26         stand\n",
       "27         stand\n",
       "28         stand\n",
       "29         stand\n",
       "           ...  \n",
       "3540932     bike\n",
       "3540933     bike\n",
       "3540934     bike\n",
       "3540935     bike\n",
       "3540936     bike\n",
       "3540937     bike\n",
       "3540938     bike\n",
       "3540939     bike\n",
       "3540940     bike\n",
       "3540941     bike\n",
       "3540942     bike\n",
       "3540943     bike\n",
       "3540944     bike\n",
       "3540945     bike\n",
       "3540946     bike\n",
       "3540947     bike\n",
       "3540948     bike\n",
       "3540949     bike\n",
       "3540950     bike\n",
       "3540951     bike\n",
       "3540952     bike\n",
       "3540953     bike\n",
       "3540954     bike\n",
       "3540955     bike\n",
       "3540956     bike\n",
       "3540957     bike\n",
       "3540958     bike\n",
       "3540959     bike\n",
       "3540960     bike\n",
       "3540961     bike\n",
       "Name: gt, Length: 3020605, dtype: object"
      ]
     },
     "execution_count": 10,
     "metadata": {},
     "output_type": "execute_result"
    }
   ],
   "source": [
    "y = df[\"gt\"]\n",
    "y"
   ]
  },
  {
   "cell_type": "code",
   "execution_count": 11,
   "metadata": {},
   "outputs": [
    {
     "data": {
      "text/html": [
       "<div>\n",
       "<style scoped>\n",
       "    .dataframe tbody tr th:only-of-type {\n",
       "        vertical-align: middle;\n",
       "    }\n",
       "\n",
       "    .dataframe tbody tr th {\n",
       "        vertical-align: top;\n",
       "    }\n",
       "\n",
       "    .dataframe thead th {\n",
       "        text-align: right;\n",
       "    }\n",
       "</style>\n",
       "<table border=\"1\" class=\"dataframe\">\n",
       "  <thead>\n",
       "    <tr style=\"text-align: right;\">\n",
       "      <th></th>\n",
       "      <th>x</th>\n",
       "      <th>y</th>\n",
       "      <th>z</th>\n",
       "    </tr>\n",
       "  </thead>\n",
       "  <tbody>\n",
       "    <tr>\n",
       "      <th>0</th>\n",
       "      <td>-0.565032</td>\n",
       "      <td>-9.572019</td>\n",
       "      <td>-0.614113</td>\n",
       "    </tr>\n",
       "    <tr>\n",
       "      <th>1</th>\n",
       "      <td>-0.832584</td>\n",
       "      <td>-9.713276</td>\n",
       "      <td>-0.606930</td>\n",
       "    </tr>\n",
       "    <tr>\n",
       "      <th>2</th>\n",
       "      <td>-1.018134</td>\n",
       "      <td>-9.935339</td>\n",
       "      <td>-0.544082</td>\n",
       "    </tr>\n",
       "    <tr>\n",
       "      <th>3</th>\n",
       "      <td>-1.222838</td>\n",
       "      <td>-10.142437</td>\n",
       "      <td>-0.566229</td>\n",
       "    </tr>\n",
       "    <tr>\n",
       "      <th>4</th>\n",
       "      <td>-1.577180</td>\n",
       "      <td>-10.480618</td>\n",
       "      <td>-0.402824</td>\n",
       "    </tr>\n",
       "  </tbody>\n",
       "</table>\n",
       "</div>"
      ],
      "text/plain": [
       "          x          y         z\n",
       "0 -0.565032  -9.572019 -0.614113\n",
       "1 -0.832584  -9.713276 -0.606930\n",
       "2 -1.018134  -9.935339 -0.544082\n",
       "3 -1.222838 -10.142437 -0.566229\n",
       "4 -1.577180 -10.480618 -0.402824"
      ]
     },
     "execution_count": 11,
     "metadata": {},
     "output_type": "execute_result"
    }
   ],
   "source": [
    "X = df.iloc[:,3:6]\n",
    "X.head()"
   ]
  },
  {
   "cell_type": "code",
   "execution_count": 12,
   "metadata": {},
   "outputs": [
    {
     "name": "stdout",
     "output_type": "stream",
     "text": [
      "(3020605, 3) (3020605,)\n"
     ]
    }
   ],
   "source": [
    "print(X.shape, y.shape)"
   ]
  },
  {
   "cell_type": "code",
   "execution_count": null,
   "metadata": {},
   "outputs": [
    {
     "name": "stderr",
     "output_type": "stream",
     "text": [
      "Using TensorFlow backend.\n"
     ]
    }
   ],
   "source": [
    "from sklearn.model_selection import train_test_split\n",
    "from sklearn.preprocessing import LabelEncoder, StandardScaler\n",
    "from keras.utils import to_categorical"
   ]
  },
  {
   "cell_type": "code",
   "execution_count": 15,
   "metadata": {},
   "outputs": [],
   "source": [
    "from sklearn.model_selection import train_test_split\n",
    "from sklearn.preprocessing import LabelEncoder, StandardScaler\n",
    "from keras.utils import to_categorical\n",
    "\n",
    "X_train, X_test, y_train, y_test = train_test_split(\n",
    "    X, y, random_state=1, stratify=y)\n",
    "X_scaler = StandardScaler().fit(X_train)\n",
    "X_train_scaled = X_scaler.transform(X_train)\n",
    "X_test_scaled = X_scaler.transform(X_test)\n",
    "\n",
    "\n",
    "# Step 1: Label-encode data set\n",
    "label_encoder = LabelEncoder()\n",
    "label_encoder.fit(y_train)\n",
    "encoded_y_train = label_encoder.transform(y_train)\n",
    "encoded_y_test = label_encoder.transform(y_test)\n",
    "\n",
    "# Step 2: Convert encoded labels to one-hot-encoding\n",
    "y_train_categorical = to_categorical(encoded_y_train)\n",
    "y_test_categorical = to_categorical(encoded_y_test)"
   ]
  },
  {
   "cell_type": "code",
   "execution_count": 16,
   "metadata": {},
   "outputs": [
    {
     "data": {
      "text/plain": [
       "['HAPNN_scaler.bin']"
      ]
     },
     "execution_count": 16,
     "metadata": {},
     "output_type": "execute_result"
    }
   ],
   "source": [
    "#Saving the X_scaler\n",
    "from sklearn.externals.joblib import dump, load\n",
    "dump(X_scaler, 'HAPNN_scaler.bin', compress=True)"
   ]
  },
  {
   "cell_type": "code",
   "execution_count": 17,
   "metadata": {},
   "outputs": [
    {
     "data": {
      "text/plain": [
       "['HAPNN_label_encoder.bin']"
      ]
     },
     "execution_count": 17,
     "metadata": {},
     "output_type": "execute_result"
    }
   ],
   "source": [
    "#Saving label encoder\n",
    "dump(label_encoder, 'HAPNN_label_encoder.bin', compress=True)"
   ]
  },
  {
   "cell_type": "code",
   "execution_count": 18,
   "metadata": {},
   "outputs": [],
   "source": [
    "from keras.models import Sequential\n",
    "from keras.layers import Dense\n",
    "\n",
    "# Create model and add layers\n",
    "model = Sequential()\n",
    "model.add(Dense(units=100, activation='relu', input_dim=3))\n",
    "model.add(Dense(units=100, activation='relu'))\n",
    "model.add(Dense(units=6, activation='softmax'))"
   ]
  },
  {
   "cell_type": "code",
   "execution_count": null,
   "metadata": {},
   "outputs": [
    {
     "name": "stdout",
     "output_type": "stream",
     "text": [
      "WARNING:tensorflow:From C:\\Users\\asi40\\.conda\\envs\\PythonData\\lib\\site-packages\\keras\\backend\\tensorflow_backend.py:422: The name tf.global_variables is deprecated. Please use tf.compat.v1.global_variables instead.\n",
      "\n",
      "Epoch 1/40\n"
     ]
    }
   ],
   "source": [
    "# Compile and fit the model\n",
    "model.compile(optimizer='adam',\n",
    "              loss='categorical_crossentropy',\n",
    "              metrics=['accuracy'])\n",
    "model.fit(\n",
    "    X_train_scaled,\n",
    "    y_train_categorical,\n",
    "    epochs=40,\n",
    "    shuffle=True,\n",
    "    verbose=2\n",
    ")"
   ]
  },
  {
   "cell_type": "code",
   "execution_count": null,
   "metadata": {},
   "outputs": [],
   "source": [
    "model_loss, model_accuracy = model.evaluate(X_test_scaled, y_test_categorical, verbose=2)\n",
    "print(f\"Normal Neural Network - Loss: {model_loss}, Accuracy: {model_accuracy}\")"
   ]
  },
  {
   "cell_type": "code",
   "execution_count": null,
   "metadata": {},
   "outputs": [],
   "source": [
    "encoded_predictions = model.predict_classes(X_test_scaled[:5])\n",
    "prediction_labels = label_encoder.inverse_transform(encoded_predictions)"
   ]
  },
  {
   "cell_type": "code",
   "execution_count": null,
   "metadata": {},
   "outputs": [],
   "source": [
    "print(f\"Predicted classes: {prediction_labels}\")\n",
    "print(f\"Actual Labels: {list(y_test[:5])}\")"
   ]
  },
  {
   "cell_type": "code",
   "execution_count": 65,
   "metadata": {},
   "outputs": [],
   "source": [
    "# Save the model\n",
    "model.save(\"HAP_NN_model.h5\")"
   ]
  },
  {
   "cell_type": "code",
   "execution_count": null,
   "metadata": {},
   "outputs": [],
   "source": []
  }
 ],
 "metadata": {
  "kernelspec": {
   "display_name": "Python [conda env:PythonData]",
   "language": "python",
   "name": "conda-env-PythonData-py"
  },
  "language_info": {
   "codemirror_mode": {
    "name": "ipython",
    "version": 3
   },
   "file_extension": ".py",
   "mimetype": "text/x-python",
   "name": "python",
   "nbconvert_exporter": "python",
   "pygments_lexer": "ipython3",
   "version": "3.6.8"
  }
 },
 "nbformat": 4,
 "nbformat_minor": 2
}
