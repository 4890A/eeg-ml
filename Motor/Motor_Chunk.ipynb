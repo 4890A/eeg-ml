{
 "cells": [
  {
   "cell_type": "code",
   "execution_count": 1,
   "metadata": {},
   "outputs": [],
   "source": [
    "import pandas as pd\n",
    "import numpy as np\n",
    "import tqdm as tqdm"
   ]
  },
  {
   "cell_type": "code",
   "execution_count": 2,
   "metadata": {},
   "outputs": [],
   "source": [
    "df_chunk = pd.read_csv('motor_filter_csv', chunksize=10000)"
   ]
  },
  {
   "cell_type": "code",
   "execution_count": 3,
   "metadata": {},
   "outputs": [
    {
     "name": "stderr",
     "output_type": "stream",
     "text": [
      "1069it [01:54,  9.32it/s]\n"
     ]
    }
   ],
   "source": [
    "chunk_list = []\n",
    "for chunk in tqdm.tqdm(df_chunk):\n",
    "    chunk_list.append(chunk)"
   ]
  },
  {
   "cell_type": "code",
   "execution_count": null,
   "metadata": {},
   "outputs": [],
   "source": [
    "translate_dict = {'01T0': 'BL Eyes Open', \n",
    "                  '01T1': 'BL Eyes Open',\n",
    "                  '02T0': 'BL Eyes Closed',\n",
    "                  '02T1': 'BL Eyes Closed',\n",
    "                  '03T0': 'Rest',\n",
    "                  '03T1': 'Motion Left Fist',\n",
    "                  '03T2': 'Motion Right Fist',\n",
    "                  '04T0': 'Rest',\n",
    "                  '04T1': 'Imagine Left Fist',\n",
    "                  '04T2': 'Imagine Right Fist',\n",
    "                  '05T0': 'Rest',\n",
    "                  '05T1': 'Motion Both Fist',\n",
    "                  '05T2': 'Motion Both Feet',\n",
    "                  '06T0': 'Rest',\n",
    "                  '06T1': 'Imagine Both Fist',\n",
    "                  '06T2': 'Imagine Both Feet'\n",
    "                 }\n",
    "\n",
    "\n",
    "classification = []\n",
    "for chunk in tqdm.tqdm(df_chunk):\n",
    "    classification.append(chunk.apply(lambda row: translate_dict[row['name'][-2:]+row['event']], axis=1))"
   ]
  }
 ],
 "metadata": {
  "kernelspec": {
   "display_name": "Python [conda env:PythonData] *",
   "language": "python",
   "name": "conda-env-PythonData-py"
  },
  "language_info": {
   "codemirror_mode": {
    "name": "ipython",
    "version": 3
   },
   "file_extension": ".py",
   "mimetype": "text/x-python",
   "name": "python",
   "nbconvert_exporter": "python",
   "pygments_lexer": "ipython3",
   "version": "3.6.8"
  }
 },
 "nbformat": 4,
 "nbformat_minor": 2
}
