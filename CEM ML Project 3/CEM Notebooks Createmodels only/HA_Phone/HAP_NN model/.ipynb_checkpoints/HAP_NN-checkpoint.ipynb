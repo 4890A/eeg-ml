{
 "cells": [
  {
   "cell_type": "code",
   "execution_count": 1,
   "metadata": {},
   "outputs": [],
   "source": [
    "import pandas as pd\n",
    "import numpy as np"
   ]
  },
  {
   "cell_type": "code",
   "execution_count": 3,
   "metadata": {},
   "outputs": [
    {
     "data": {
      "text/html": [
       "<div>\n",
       "<style scoped>\n",
       "    .dataframe tbody tr th:only-of-type {\n",
       "        vertical-align: middle;\n",
       "    }\n",
       "\n",
       "    .dataframe tbody tr th {\n",
       "        vertical-align: top;\n",
       "    }\n",
       "\n",
       "    .dataframe thead th {\n",
       "        text-align: right;\n",
       "    }\n",
       "</style>\n",
       "<table border=\"1\" class=\"dataframe\">\n",
       "  <thead>\n",
       "    <tr style=\"text-align: right;\">\n",
       "      <th></th>\n",
       "      <th>Index</th>\n",
       "      <th>Arrival_Time</th>\n",
       "      <th>Creation_Time</th>\n",
       "      <th>x</th>\n",
       "      <th>y</th>\n",
       "      <th>z</th>\n",
       "      <th>User</th>\n",
       "      <th>Model</th>\n",
       "      <th>Device</th>\n",
       "      <th>gt</th>\n",
       "    </tr>\n",
       "  </thead>\n",
       "  <tbody>\n",
       "    <tr>\n",
       "      <th>0</th>\n",
       "      <td>0</td>\n",
       "      <td>1424696633908</td>\n",
       "      <td>1424696631913248572</td>\n",
       "      <td>-5.958191</td>\n",
       "      <td>0.688065</td>\n",
       "      <td>8.135345</td>\n",
       "      <td>a</td>\n",
       "      <td>nexus4</td>\n",
       "      <td>nexus4_1</td>\n",
       "      <td>stand</td>\n",
       "    </tr>\n",
       "    <tr>\n",
       "      <th>1</th>\n",
       "      <td>1</td>\n",
       "      <td>1424696633909</td>\n",
       "      <td>1424696631918283972</td>\n",
       "      <td>-5.952240</td>\n",
       "      <td>0.670212</td>\n",
       "      <td>8.136536</td>\n",
       "      <td>a</td>\n",
       "      <td>nexus4</td>\n",
       "      <td>nexus4_1</td>\n",
       "      <td>stand</td>\n",
       "    </tr>\n",
       "    <tr>\n",
       "      <th>2</th>\n",
       "      <td>2</td>\n",
       "      <td>1424696633918</td>\n",
       "      <td>1424696631923288855</td>\n",
       "      <td>-5.995087</td>\n",
       "      <td>0.653549</td>\n",
       "      <td>8.204376</td>\n",
       "      <td>a</td>\n",
       "      <td>nexus4</td>\n",
       "      <td>nexus4_1</td>\n",
       "      <td>stand</td>\n",
       "    </tr>\n",
       "    <tr>\n",
       "      <th>3</th>\n",
       "      <td>3</td>\n",
       "      <td>1424696633919</td>\n",
       "      <td>1424696631928385290</td>\n",
       "      <td>-5.942718</td>\n",
       "      <td>0.676163</td>\n",
       "      <td>8.128204</td>\n",
       "      <td>a</td>\n",
       "      <td>nexus4</td>\n",
       "      <td>nexus4_1</td>\n",
       "      <td>stand</td>\n",
       "    </tr>\n",
       "    <tr>\n",
       "      <th>4</th>\n",
       "      <td>4</td>\n",
       "      <td>1424696633929</td>\n",
       "      <td>1424696631933420691</td>\n",
       "      <td>-5.991516</td>\n",
       "      <td>0.641647</td>\n",
       "      <td>8.135345</td>\n",
       "      <td>a</td>\n",
       "      <td>nexus4</td>\n",
       "      <td>nexus4_1</td>\n",
       "      <td>stand</td>\n",
       "    </tr>\n",
       "  </tbody>\n",
       "</table>\n",
       "</div>"
      ],
      "text/plain": [
       "   Index   Arrival_Time        Creation_Time         x         y         z  \\\n",
       "0      0  1424696633908  1424696631913248572 -5.958191  0.688065  8.135345   \n",
       "1      1  1424696633909  1424696631918283972 -5.952240  0.670212  8.136536   \n",
       "2      2  1424696633918  1424696631923288855 -5.995087  0.653549  8.204376   \n",
       "3      3  1424696633919  1424696631928385290 -5.942718  0.676163  8.128204   \n",
       "4      4  1424696633929  1424696631933420691 -5.991516  0.641647  8.135345   \n",
       "\n",
       "  User   Model    Device     gt  \n",
       "0    a  nexus4  nexus4_1  stand  \n",
       "1    a  nexus4  nexus4_1  stand  \n",
       "2    a  nexus4  nexus4_1  stand  \n",
       "3    a  nexus4  nexus4_1  stand  \n",
       "4    a  nexus4  nexus4_1  stand  "
      ]
     },
     "execution_count": 3,
     "metadata": {},
     "output_type": "execute_result"
    }
   ],
   "source": [
    "filen = \"../Phones_accelerometer.csv\"\n",
    "df1 = pd.read_csv(filen)\n",
    "df1.head()"
   ]
  },
  {
   "cell_type": "code",
   "execution_count": 4,
   "metadata": {},
   "outputs": [
    {
     "data": {
      "text/html": [
       "<div>\n",
       "<style scoped>\n",
       "    .dataframe tbody tr th:only-of-type {\n",
       "        vertical-align: middle;\n",
       "    }\n",
       "\n",
       "    .dataframe tbody tr th {\n",
       "        vertical-align: top;\n",
       "    }\n",
       "\n",
       "    .dataframe thead th {\n",
       "        text-align: right;\n",
       "    }\n",
       "</style>\n",
       "<table border=\"1\" class=\"dataframe\">\n",
       "  <thead>\n",
       "    <tr style=\"text-align: right;\">\n",
       "      <th></th>\n",
       "      <th>Index</th>\n",
       "      <th>Arrival_Time</th>\n",
       "      <th>Creation_Time</th>\n",
       "      <th>x</th>\n",
       "      <th>y</th>\n",
       "      <th>z</th>\n",
       "      <th>User</th>\n",
       "      <th>Model</th>\n",
       "      <th>Device</th>\n",
       "      <th>gt</th>\n",
       "    </tr>\n",
       "  </thead>\n",
       "  <tbody>\n",
       "    <tr>\n",
       "      <th>0</th>\n",
       "      <td>0</td>\n",
       "      <td>1424696633909</td>\n",
       "      <td>1424696631914042029</td>\n",
       "      <td>0.013748</td>\n",
       "      <td>-0.000626</td>\n",
       "      <td>-0.023376</td>\n",
       "      <td>a</td>\n",
       "      <td>nexus4</td>\n",
       "      <td>nexus4_1</td>\n",
       "      <td>stand</td>\n",
       "    </tr>\n",
       "    <tr>\n",
       "      <th>1</th>\n",
       "      <td>1</td>\n",
       "      <td>1424696633909</td>\n",
       "      <td>1424696631919046912</td>\n",
       "      <td>0.014816</td>\n",
       "      <td>-0.001694</td>\n",
       "      <td>-0.022308</td>\n",
       "      <td>a</td>\n",
       "      <td>nexus4</td>\n",
       "      <td>nexus4_1</td>\n",
       "      <td>stand</td>\n",
       "    </tr>\n",
       "    <tr>\n",
       "      <th>2</th>\n",
       "      <td>2</td>\n",
       "      <td>1424696633918</td>\n",
       "      <td>1424696631924051794</td>\n",
       "      <td>0.015884</td>\n",
       "      <td>-0.001694</td>\n",
       "      <td>-0.021240</td>\n",
       "      <td>a</td>\n",
       "      <td>nexus4</td>\n",
       "      <td>nexus4_1</td>\n",
       "      <td>stand</td>\n",
       "    </tr>\n",
       "    <tr>\n",
       "      <th>3</th>\n",
       "      <td>3</td>\n",
       "      <td>1424696633919</td>\n",
       "      <td>1424696631929117712</td>\n",
       "      <td>0.016953</td>\n",
       "      <td>-0.003830</td>\n",
       "      <td>-0.020172</td>\n",
       "      <td>a</td>\n",
       "      <td>nexus4</td>\n",
       "      <td>nexus4_1</td>\n",
       "      <td>stand</td>\n",
       "    </tr>\n",
       "    <tr>\n",
       "      <th>4</th>\n",
       "      <td>4</td>\n",
       "      <td>1424696633928</td>\n",
       "      <td>1424696631934214148</td>\n",
       "      <td>0.015884</td>\n",
       "      <td>-0.007034</td>\n",
       "      <td>-0.020172</td>\n",
       "      <td>a</td>\n",
       "      <td>nexus4</td>\n",
       "      <td>nexus4_1</td>\n",
       "      <td>stand</td>\n",
       "    </tr>\n",
       "  </tbody>\n",
       "</table>\n",
       "</div>"
      ],
      "text/plain": [
       "   Index   Arrival_Time        Creation_Time         x         y         z  \\\n",
       "0      0  1424696633909  1424696631914042029  0.013748 -0.000626 -0.023376   \n",
       "1      1  1424696633909  1424696631919046912  0.014816 -0.001694 -0.022308   \n",
       "2      2  1424696633918  1424696631924051794  0.015884 -0.001694 -0.021240   \n",
       "3      3  1424696633919  1424696631929117712  0.016953 -0.003830 -0.020172   \n",
       "4      4  1424696633928  1424696631934214148  0.015884 -0.007034 -0.020172   \n",
       "\n",
       "  User   Model    Device     gt  \n",
       "0    a  nexus4  nexus4_1  stand  \n",
       "1    a  nexus4  nexus4_1  stand  \n",
       "2    a  nexus4  nexus4_1  stand  \n",
       "3    a  nexus4  nexus4_1  stand  \n",
       "4    a  nexus4  nexus4_1  stand  "
      ]
     },
     "execution_count": 4,
     "metadata": {},
     "output_type": "execute_result"
    }
   ],
   "source": [
    "filen1 = \"../Phones_gyroscope.csv\"\n",
    "df2 = pd.read_csv(filen1)\n",
    "df2.head()"
   ]
  },
  {
   "cell_type": "code",
   "execution_count": 5,
   "metadata": {},
   "outputs": [
    {
     "data": {
      "text/html": [
       "<div>\n",
       "<style scoped>\n",
       "    .dataframe tbody tr th:only-of-type {\n",
       "        vertical-align: middle;\n",
       "    }\n",
       "\n",
       "    .dataframe tbody tr th {\n",
       "        vertical-align: top;\n",
       "    }\n",
       "\n",
       "    .dataframe thead th {\n",
       "        text-align: right;\n",
       "    }\n",
       "</style>\n",
       "<table border=\"1\" class=\"dataframe\">\n",
       "  <thead>\n",
       "    <tr style=\"text-align: right;\">\n",
       "      <th></th>\n",
       "      <th>Index</th>\n",
       "      <th>Arrival_Time</th>\n",
       "      <th>Creation_Time</th>\n",
       "      <th>x</th>\n",
       "      <th>y</th>\n",
       "      <th>z</th>\n",
       "      <th>User</th>\n",
       "      <th>Model</th>\n",
       "      <th>Device</th>\n",
       "      <th>gt</th>\n",
       "    </tr>\n",
       "  </thead>\n",
       "  <tbody>\n",
       "    <tr>\n",
       "      <th>0</th>\n",
       "      <td>0</td>\n",
       "      <td>1424696633908</td>\n",
       "      <td>1424696631913248572</td>\n",
       "      <td>-5.958191</td>\n",
       "      <td>0.688065</td>\n",
       "      <td>8.135345</td>\n",
       "      <td>a</td>\n",
       "      <td>nexus4</td>\n",
       "      <td>nexus4_1</td>\n",
       "      <td>stand</td>\n",
       "    </tr>\n",
       "    <tr>\n",
       "      <th>1</th>\n",
       "      <td>1</td>\n",
       "      <td>1424696633909</td>\n",
       "      <td>1424696631918283972</td>\n",
       "      <td>-5.952240</td>\n",
       "      <td>0.670212</td>\n",
       "      <td>8.136536</td>\n",
       "      <td>a</td>\n",
       "      <td>nexus4</td>\n",
       "      <td>nexus4_1</td>\n",
       "      <td>stand</td>\n",
       "    </tr>\n",
       "    <tr>\n",
       "      <th>2</th>\n",
       "      <td>2</td>\n",
       "      <td>1424696633918</td>\n",
       "      <td>1424696631923288855</td>\n",
       "      <td>-5.995087</td>\n",
       "      <td>0.653549</td>\n",
       "      <td>8.204376</td>\n",
       "      <td>a</td>\n",
       "      <td>nexus4</td>\n",
       "      <td>nexus4_1</td>\n",
       "      <td>stand</td>\n",
       "    </tr>\n",
       "    <tr>\n",
       "      <th>3</th>\n",
       "      <td>3</td>\n",
       "      <td>1424696633919</td>\n",
       "      <td>1424696631928385290</td>\n",
       "      <td>-5.942718</td>\n",
       "      <td>0.676163</td>\n",
       "      <td>8.128204</td>\n",
       "      <td>a</td>\n",
       "      <td>nexus4</td>\n",
       "      <td>nexus4_1</td>\n",
       "      <td>stand</td>\n",
       "    </tr>\n",
       "    <tr>\n",
       "      <th>4</th>\n",
       "      <td>4</td>\n",
       "      <td>1424696633929</td>\n",
       "      <td>1424696631933420691</td>\n",
       "      <td>-5.991516</td>\n",
       "      <td>0.641647</td>\n",
       "      <td>8.135345</td>\n",
       "      <td>a</td>\n",
       "      <td>nexus4</td>\n",
       "      <td>nexus4_1</td>\n",
       "      <td>stand</td>\n",
       "    </tr>\n",
       "  </tbody>\n",
       "</table>\n",
       "</div>"
      ],
      "text/plain": [
       "   Index   Arrival_Time        Creation_Time         x         y         z  \\\n",
       "0      0  1424696633908  1424696631913248572 -5.958191  0.688065  8.135345   \n",
       "1      1  1424696633909  1424696631918283972 -5.952240  0.670212  8.136536   \n",
       "2      2  1424696633918  1424696631923288855 -5.995087  0.653549  8.204376   \n",
       "3      3  1424696633919  1424696631928385290 -5.942718  0.676163  8.128204   \n",
       "4      4  1424696633929  1424696631933420691 -5.991516  0.641647  8.135345   \n",
       "\n",
       "  User   Model    Device     gt  \n",
       "0    a  nexus4  nexus4_1  stand  \n",
       "1    a  nexus4  nexus4_1  stand  \n",
       "2    a  nexus4  nexus4_1  stand  \n",
       "3    a  nexus4  nexus4_1  stand  \n",
       "4    a  nexus4  nexus4_1  stand  "
      ]
     },
     "execution_count": 5,
     "metadata": {},
     "output_type": "execute_result"
    }
   ],
   "source": [
    "df1.append(df2)\n",
    "df1.head()"
   ]
  },
  {
   "cell_type": "code",
   "execution_count": 6,
   "metadata": {},
   "outputs": [
    {
     "data": {
      "text/plain": [
       "Index            13062475\n",
       "Arrival_Time     13062475\n",
       "Creation_Time    13062475\n",
       "x                13062475\n",
       "y                13062475\n",
       "z                13062475\n",
       "User             13062475\n",
       "Model            13062475\n",
       "Device           13062475\n",
       "gt               11279275\n",
       "dtype: int64"
      ]
     },
     "execution_count": 6,
     "metadata": {},
     "output_type": "execute_result"
    }
   ],
   "source": [
    "df1.count()"
   ]
  },
  {
   "cell_type": "code",
   "execution_count": 7,
   "metadata": {},
   "outputs": [
    {
     "data": {
      "text/plain": [
       "array(['stand', nan, 'sit', 'walk', 'stairsup', 'stairsdown', 'bike'],\n",
       "      dtype=object)"
      ]
     },
     "execution_count": 7,
     "metadata": {},
     "output_type": "execute_result"
    }
   ],
   "source": [
    "df1['gt'].unique()"
   ]
  },
  {
   "cell_type": "code",
   "execution_count": 8,
   "metadata": {},
   "outputs": [
    {
     "data": {
      "text/html": [
       "<div>\n",
       "<style scoped>\n",
       "    .dataframe tbody tr th:only-of-type {\n",
       "        vertical-align: middle;\n",
       "    }\n",
       "\n",
       "    .dataframe tbody tr th {\n",
       "        vertical-align: top;\n",
       "    }\n",
       "\n",
       "    .dataframe thead th {\n",
       "        text-align: right;\n",
       "    }\n",
       "</style>\n",
       "<table border=\"1\" class=\"dataframe\">\n",
       "  <thead>\n",
       "    <tr style=\"text-align: right;\">\n",
       "      <th></th>\n",
       "      <th>Index</th>\n",
       "      <th>Arrival_Time</th>\n",
       "      <th>Creation_Time</th>\n",
       "      <th>x</th>\n",
       "      <th>y</th>\n",
       "      <th>z</th>\n",
       "      <th>User</th>\n",
       "      <th>Model</th>\n",
       "      <th>Device</th>\n",
       "      <th>gt</th>\n",
       "    </tr>\n",
       "  </thead>\n",
       "  <tbody>\n",
       "    <tr>\n",
       "      <th>0</th>\n",
       "      <td>0</td>\n",
       "      <td>1424696633908</td>\n",
       "      <td>1424696631913248572</td>\n",
       "      <td>-5.958191</td>\n",
       "      <td>0.688065</td>\n",
       "      <td>8.135345</td>\n",
       "      <td>a</td>\n",
       "      <td>nexus4</td>\n",
       "      <td>nexus4_1</td>\n",
       "      <td>stand</td>\n",
       "    </tr>\n",
       "    <tr>\n",
       "      <th>1</th>\n",
       "      <td>1</td>\n",
       "      <td>1424696633909</td>\n",
       "      <td>1424696631918283972</td>\n",
       "      <td>-5.952240</td>\n",
       "      <td>0.670212</td>\n",
       "      <td>8.136536</td>\n",
       "      <td>a</td>\n",
       "      <td>nexus4</td>\n",
       "      <td>nexus4_1</td>\n",
       "      <td>stand</td>\n",
       "    </tr>\n",
       "    <tr>\n",
       "      <th>2</th>\n",
       "      <td>2</td>\n",
       "      <td>1424696633918</td>\n",
       "      <td>1424696631923288855</td>\n",
       "      <td>-5.995087</td>\n",
       "      <td>0.653549</td>\n",
       "      <td>8.204376</td>\n",
       "      <td>a</td>\n",
       "      <td>nexus4</td>\n",
       "      <td>nexus4_1</td>\n",
       "      <td>stand</td>\n",
       "    </tr>\n",
       "    <tr>\n",
       "      <th>3</th>\n",
       "      <td>3</td>\n",
       "      <td>1424696633919</td>\n",
       "      <td>1424696631928385290</td>\n",
       "      <td>-5.942718</td>\n",
       "      <td>0.676163</td>\n",
       "      <td>8.128204</td>\n",
       "      <td>a</td>\n",
       "      <td>nexus4</td>\n",
       "      <td>nexus4_1</td>\n",
       "      <td>stand</td>\n",
       "    </tr>\n",
       "    <tr>\n",
       "      <th>4</th>\n",
       "      <td>4</td>\n",
       "      <td>1424696633929</td>\n",
       "      <td>1424696631933420691</td>\n",
       "      <td>-5.991516</td>\n",
       "      <td>0.641647</td>\n",
       "      <td>8.135345</td>\n",
       "      <td>a</td>\n",
       "      <td>nexus4</td>\n",
       "      <td>nexus4_1</td>\n",
       "      <td>stand</td>\n",
       "    </tr>\n",
       "  </tbody>\n",
       "</table>\n",
       "</div>"
      ],
      "text/plain": [
       "   Index   Arrival_Time        Creation_Time         x         y         z  \\\n",
       "0      0  1424696633908  1424696631913248572 -5.958191  0.688065  8.135345   \n",
       "1      1  1424696633909  1424696631918283972 -5.952240  0.670212  8.136536   \n",
       "2      2  1424696633918  1424696631923288855 -5.995087  0.653549  8.204376   \n",
       "3      3  1424696633919  1424696631928385290 -5.942718  0.676163  8.128204   \n",
       "4      4  1424696633929  1424696631933420691 -5.991516  0.641647  8.135345   \n",
       "\n",
       "  User   Model    Device     gt  \n",
       "0    a  nexus4  nexus4_1  stand  \n",
       "1    a  nexus4  nexus4_1  stand  \n",
       "2    a  nexus4  nexus4_1  stand  \n",
       "3    a  nexus4  nexus4_1  stand  \n",
       "4    a  nexus4  nexus4_1  stand  "
      ]
     },
     "execution_count": 8,
     "metadata": {},
     "output_type": "execute_result"
    }
   ],
   "source": [
    "to_stay = ['stand','sit', 'walk', 'stairsup', 'stairsdown', 'bike']\n",
    "df = df1[df1['gt'].isin(to_stay)]\n",
    "df.dropna()\n",
    "df.head()"
   ]
  },
  {
   "cell_type": "code",
   "execution_count": 9,
   "metadata": {},
   "outputs": [
    {
     "data": {
      "text/plain": [
       "Index            11279275\n",
       "Arrival_Time     11279275\n",
       "Creation_Time    11279275\n",
       "x                11279275\n",
       "y                11279275\n",
       "z                11279275\n",
       "User             11279275\n",
       "Model            11279275\n",
       "Device           11279275\n",
       "gt               11279275\n",
       "dtype: int64"
      ]
     },
     "execution_count": 9,
     "metadata": {},
     "output_type": "execute_result"
    }
   ],
   "source": [
    "df.count()"
   ]
  },
  {
   "cell_type": "code",
   "execution_count": 10,
   "metadata": {},
   "outputs": [
    {
     "data": {
      "text/plain": [
       "array(['stand', 'sit', 'walk', 'stairsup', 'stairsdown', 'bike'],\n",
       "      dtype=object)"
      ]
     },
     "execution_count": 10,
     "metadata": {},
     "output_type": "execute_result"
    }
   ],
   "source": [
    "df['gt'].unique()"
   ]
  },
  {
   "cell_type": "code",
   "execution_count": 11,
   "metadata": {},
   "outputs": [
    {
     "data": {
      "text/plain": [
       "0           stand\n",
       "1           stand\n",
       "2           stand\n",
       "3           stand\n",
       "4           stand\n",
       "5           stand\n",
       "6           stand\n",
       "7           stand\n",
       "8           stand\n",
       "9           stand\n",
       "10          stand\n",
       "11          stand\n",
       "12          stand\n",
       "13          stand\n",
       "14          stand\n",
       "15          stand\n",
       "16          stand\n",
       "17          stand\n",
       "18          stand\n",
       "19          stand\n",
       "20          stand\n",
       "21          stand\n",
       "22          stand\n",
       "23          stand\n",
       "24          stand\n",
       "25          stand\n",
       "26          stand\n",
       "27          stand\n",
       "28          stand\n",
       "29          stand\n",
       "            ...  \n",
       "13062445     bike\n",
       "13062446     bike\n",
       "13062447     bike\n",
       "13062448     bike\n",
       "13062449     bike\n",
       "13062450     bike\n",
       "13062451     bike\n",
       "13062452     bike\n",
       "13062453     bike\n",
       "13062454     bike\n",
       "13062455     bike\n",
       "13062456     bike\n",
       "13062457     bike\n",
       "13062458     bike\n",
       "13062459     bike\n",
       "13062460     bike\n",
       "13062461     bike\n",
       "13062462     bike\n",
       "13062463     bike\n",
       "13062464     bike\n",
       "13062465     bike\n",
       "13062466     bike\n",
       "13062467     bike\n",
       "13062468     bike\n",
       "13062469     bike\n",
       "13062470     bike\n",
       "13062471     bike\n",
       "13062472     bike\n",
       "13062473     bike\n",
       "13062474     bike\n",
       "Name: gt, Length: 11279275, dtype: object"
      ]
     },
     "execution_count": 11,
     "metadata": {},
     "output_type": "execute_result"
    }
   ],
   "source": [
    "y = df[\"gt\"]\n",
    "y"
   ]
  },
  {
   "cell_type": "code",
   "execution_count": 12,
   "metadata": {},
   "outputs": [
    {
     "data": {
      "text/html": [
       "<div>\n",
       "<style scoped>\n",
       "    .dataframe tbody tr th:only-of-type {\n",
       "        vertical-align: middle;\n",
       "    }\n",
       "\n",
       "    .dataframe tbody tr th {\n",
       "        vertical-align: top;\n",
       "    }\n",
       "\n",
       "    .dataframe thead th {\n",
       "        text-align: right;\n",
       "    }\n",
       "</style>\n",
       "<table border=\"1\" class=\"dataframe\">\n",
       "  <thead>\n",
       "    <tr style=\"text-align: right;\">\n",
       "      <th></th>\n",
       "      <th>x</th>\n",
       "      <th>y</th>\n",
       "      <th>z</th>\n",
       "    </tr>\n",
       "  </thead>\n",
       "  <tbody>\n",
       "    <tr>\n",
       "      <th>0</th>\n",
       "      <td>-5.958191</td>\n",
       "      <td>0.688065</td>\n",
       "      <td>8.135345</td>\n",
       "    </tr>\n",
       "    <tr>\n",
       "      <th>1</th>\n",
       "      <td>-5.952240</td>\n",
       "      <td>0.670212</td>\n",
       "      <td>8.136536</td>\n",
       "    </tr>\n",
       "    <tr>\n",
       "      <th>2</th>\n",
       "      <td>-5.995087</td>\n",
       "      <td>0.653549</td>\n",
       "      <td>8.204376</td>\n",
       "    </tr>\n",
       "    <tr>\n",
       "      <th>3</th>\n",
       "      <td>-5.942718</td>\n",
       "      <td>0.676163</td>\n",
       "      <td>8.128204</td>\n",
       "    </tr>\n",
       "    <tr>\n",
       "      <th>4</th>\n",
       "      <td>-5.991516</td>\n",
       "      <td>0.641647</td>\n",
       "      <td>8.135345</td>\n",
       "    </tr>\n",
       "  </tbody>\n",
       "</table>\n",
       "</div>"
      ],
      "text/plain": [
       "          x         y         z\n",
       "0 -5.958191  0.688065  8.135345\n",
       "1 -5.952240  0.670212  8.136536\n",
       "2 -5.995087  0.653549  8.204376\n",
       "3 -5.942718  0.676163  8.128204\n",
       "4 -5.991516  0.641647  8.135345"
      ]
     },
     "execution_count": 12,
     "metadata": {},
     "output_type": "execute_result"
    }
   ],
   "source": [
    "X = df.iloc[:,3:6]\n",
    "X.head()"
   ]
  },
  {
   "cell_type": "code",
   "execution_count": 13,
   "metadata": {},
   "outputs": [
    {
     "name": "stdout",
     "output_type": "stream",
     "text": [
      "(11279275, 3) (11279275,)\n"
     ]
    }
   ],
   "source": [
    "print(X.shape, y.shape)"
   ]
  },
  {
   "cell_type": "code",
   "execution_count": 14,
   "metadata": {},
   "outputs": [
    {
     "name": "stderr",
     "output_type": "stream",
     "text": [
      "Using TensorFlow backend.\n"
     ]
    }
   ],
   "source": [
    "from sklearn.model_selection import train_test_split\n",
    "from sklearn.preprocessing import LabelEncoder, StandardScaler\n",
    "from keras.utils import to_categorical"
   ]
  },
  {
   "cell_type": "code",
   "execution_count": 15,
   "metadata": {},
   "outputs": [],
   "source": [
    "from sklearn.model_selection import train_test_split\n",
    "from sklearn.preprocessing import LabelEncoder, StandardScaler\n",
    "from keras.utils import to_categorical\n",
    "\n",
    "X_train, X_test, y_train, y_test = train_test_split(\n",
    "    X, y, random_state=1, stratify=y)\n",
    "X_scaler = StandardScaler().fit(X_train)\n",
    "X_train_scaled = X_scaler.transform(X_train)\n",
    "X_test_scaled = X_scaler.transform(X_test)\n",
    "\n",
    "\n",
    "# Step 1: Label-encode data set\n",
    "label_encoder = LabelEncoder()\n",
    "label_encoder.fit(y_train)\n",
    "encoded_y_train = label_encoder.transform(y_train)\n",
    "encoded_y_test = label_encoder.transform(y_test)\n",
    "\n",
    "# Step 2: Convert encoded labels to one-hot-encoding\n",
    "y_train_categorical = to_categorical(encoded_y_train)\n",
    "y_test_categorical = to_categorical(encoded_y_test)"
   ]
  },
  {
   "cell_type": "code",
   "execution_count": 16,
   "metadata": {},
   "outputs": [
    {
     "data": {
      "text/plain": [
       "['HAPNN_scaler.bin']"
      ]
     },
     "execution_count": 16,
     "metadata": {},
     "output_type": "execute_result"
    }
   ],
   "source": [
    "#Saving the X_scaler\n",
    "from sklearn.externals.joblib import dump, load\n",
    "dump(X_scaler, 'HAPNN_scaler.bin', compress=True)"
   ]
  },
  {
   "cell_type": "code",
   "execution_count": 17,
   "metadata": {},
   "outputs": [
    {
     "data": {
      "text/plain": [
       "['HAPNN_label_encoder.bin']"
      ]
     },
     "execution_count": 17,
     "metadata": {},
     "output_type": "execute_result"
    }
   ],
   "source": [
    "#Saving label encoder\n",
    "dump(label_encoder, 'HAPNN_label_encoder.bin', compress=True)"
   ]
  },
  {
   "cell_type": "code",
   "execution_count": 18,
   "metadata": {},
   "outputs": [],
   "source": [
    "from keras.models import Sequential\n",
    "from keras.layers import Dense\n",
    "\n",
    "# Create model and add layers\n",
    "model = Sequential()\n",
    "model.add(Dense(units=100, activation='relu', input_dim=3))\n",
    "model.add(Dense(units=100, activation='relu'))\n",
    "model.add(Dense(units=6, activation='softmax'))"
   ]
  },
  {
   "cell_type": "code",
   "execution_count": null,
   "metadata": {},
   "outputs": [
    {
     "name": "stdout",
     "output_type": "stream",
     "text": [
      "WARNING:tensorflow:From C:\\Users\\asi40\\.conda\\envs\\PythonData\\lib\\site-packages\\keras\\backend\\tensorflow_backend.py:422: The name tf.global_variables is deprecated. Please use tf.compat.v1.global_variables instead.\n",
      "\n",
      "Epoch 1/40\n"
     ]
    }
   ],
   "source": [
    "# Compile and fit the model\n",
    "model.compile(optimizer='adam',\n",
    "              loss='categorical_crossentropy',\n",
    "              metrics=['accuracy'])\n",
    "model.fit(\n",
    "    X_train_scaled,\n",
    "    y_train_categorical,\n",
    "    epochs=40,\n",
    "    shuffle=True,\n",
    "    verbose=2\n",
    ")"
   ]
  },
  {
   "cell_type": "code",
   "execution_count": null,
   "metadata": {},
   "outputs": [],
   "source": [
    "model_loss, model_accuracy = model.evaluate(X_test_scaled, y_test_categorical, verbose=2)\n",
    "print(f\"Normal Neural Network - Loss: {model_loss}, Accuracy: {model_accuracy}\")"
   ]
  },
  {
   "cell_type": "code",
   "execution_count": null,
   "metadata": {},
   "outputs": [],
   "source": [
    "encoded_predictions = model.predict_classes(X_test_scaled[:5])\n",
    "prediction_labels = label_encoder.inverse_transform(encoded_predictions)"
   ]
  },
  {
   "cell_type": "code",
   "execution_count": null,
   "metadata": {},
   "outputs": [],
   "source": [
    "print(f\"Predicted classes: {prediction_labels}\")\n",
    "print(f\"Actual Labels: {list(y_test[:5])}\")"
   ]
  },
  {
   "cell_type": "code",
   "execution_count": 65,
   "metadata": {},
   "outputs": [],
   "source": [
    "# Save the model\n",
    "model.save(\"HAP_NN_model.h5\")"
   ]
  },
  {
   "cell_type": "code",
   "execution_count": null,
   "metadata": {},
   "outputs": [],
   "source": []
  }
 ],
 "metadata": {
  "kernelspec": {
   "display_name": "Python [conda env:PythonData]",
   "language": "python",
   "name": "conda-env-PythonData-py"
  },
  "language_info": {
   "codemirror_mode": {
    "name": "ipython",
    "version": 3
   },
   "file_extension": ".py",
   "mimetype": "text/x-python",
   "name": "python",
   "nbconvert_exporter": "python",
   "pygments_lexer": "ipython3",
   "version": "3.6.8"
  }
 },
 "nbformat": 4,
 "nbformat_minor": 2
}
