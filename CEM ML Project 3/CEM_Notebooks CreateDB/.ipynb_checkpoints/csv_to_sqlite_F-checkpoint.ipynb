{
 "cells": [
  {
   "cell_type": "code",
   "execution_count": 1,
   "metadata": {},
   "outputs": [],
   "source": [
    "#Import Dependencies\n",
    "import csv, sqlite3\n",
    "import pandas as pd"
   ]
  },
  {
   "cell_type": "code",
   "execution_count": 2,
   "metadata": {},
   "outputs": [],
   "source": [
    "#FUNCTION to create a table in a database using data from csvfile\n",
    "def create_table (database, table, csvfile):\n",
    "    \n",
    "    #database = name of database\n",
    "    #table = name of table in database \n",
    "    #csvfile = name of csvfile\n",
    "    \n",
    "    # Creates or opens a file called mydb with a SQLite3 DB\n",
    "    db = sqlite3.connect(database)\n",
    "    \n",
    "    # Read csv file into a dataframe\n",
    "    df = pd.read_csv(csvfile, encoding='utf-8')\n",
    "    \n",
    "    #Save dataframe data into a table\n",
    "    df.to_sql(table, db, if_exists='append')\n",
    "    #df.to_sql(table, db, if_exists='append')\n",
    "    \n",
    "    #Close the database\n",
    "    db.close()"
   ]
  },
  {
   "cell_type": "code",
   "execution_count": 3,
   "metadata": {},
   "outputs": [],
   "source": [
    "#DATABASE name\n",
    "#database = 'data/mydb_project2.sqlite'\n",
    "database = '../db/project3db.sqlite'"
   ]
  },
  {
   "cell_type": "code",
   "execution_count": 4,
   "metadata": {},
   "outputs": [
    {
     "name": "stderr",
     "output_type": "stream",
     "text": [
      "C:\\Users\\asi40\\.conda\\envs\\PythonData\\lib\\site-packages\\pandas\\core\\generic.py:2531: UserWarning: The spaces in these column names will not be changed. In pandas versions < 0.14, spaces were converted to underscores.\n",
      "  dtype=dtype, method=method)\n"
     ]
    }
   ],
   "source": [
    "#Create a table (sentiment) in database using data in csv file\n",
    "csvfile = '../db/Alc_test.csv'\n",
    "create_table(database, 'Alc_test', csvfile)"
   ]
  },
  {
   "cell_type": "code",
   "execution_count": 5,
   "metadata": {},
   "outputs": [],
   "source": [
    "#Create a table (tweets_loc) in database using data in csv file\n",
    "csvfile = '../db/Alc_train.csv'\n",
    "create_table(database, 'Alc_train', csvfile)"
   ]
  },
  {
   "cell_type": "code",
   "execution_count": 6,
   "metadata": {},
   "outputs": [],
   "source": [
    "#Create a table (tweets) in database using data in csv file\n",
    "csvfile = '../db/HA_test_phone.csv'\n",
    "create_table(database, 'HA_test_phone', csvfile)"
   ]
  },
  {
   "cell_type": "code",
   "execution_count": 8,
   "metadata": {},
   "outputs": [],
   "source": [
    "#Create a table (tweets) in database using data in csv file\n",
    "csvfile = '../db/HA_test_watch.csv'\n",
    "create_table(database, 'HA_test_watch', csvfile)"
   ]
  },
  {
   "cell_type": "code",
   "execution_count": 9,
   "metadata": {},
   "outputs": [],
   "source": [
    "#Create a table (tweets) in database using data in csv file\n",
    "csvfile = '../db/HA_train_phone.csv'\n",
    "create_table(database, 'HA_train_phone', csvfile)"
   ]
  },
  {
   "cell_type": "code",
   "execution_count": 10,
   "metadata": {},
   "outputs": [],
   "source": [
    "#Create a table (tweets) in database using data in csv file\n",
    "csvfile = '../db/HA_train_watch.csv'\n",
    "create_table(database, 'HA_train_watch', csvfile)"
   ]
  },
  {
   "cell_type": "code",
   "execution_count": 11,
   "metadata": {},
   "outputs": [],
   "source": [
    "db = sqlite3.connect(database)"
   ]
  },
  {
   "cell_type": "code",
   "execution_count": 14,
   "metadata": {},
   "outputs": [],
   "source": [
    "cursor = db.cursor()"
   ]
  },
  {
   "cell_type": "code",
   "execution_count": 16,
   "metadata": {},
   "outputs": [
    {
     "name": "stdout",
     "output_type": "stream",
     "text": [
      "Alc_test\n",
      "Alc_train\n",
      "HA_test_phone\n",
      "HA_test_watch\n",
      "HA_train_phone\n",
      "HA_train_watch\n"
     ]
    }
   ],
   "source": [
    "res = cursor.execute(\"SELECT name FROM sqlite_master WHERE type='table';\")\n",
    "for name in res:\n",
    "    print (name[0])"
   ]
  },
  {
   "cell_type": "code",
   "execution_count": 17,
   "metadata": {},
   "outputs": [],
   "source": [
    "db.close()"
   ]
  },
  {
   "cell_type": "code",
   "execution_count": null,
   "metadata": {},
   "outputs": [],
   "source": []
  }
 ],
 "metadata": {
  "kernelspec": {
   "display_name": "Python [conda env:PythonData]",
   "language": "python",
   "name": "conda-env-PythonData-py"
  },
  "language_info": {
   "codemirror_mode": {
    "name": "ipython",
    "version": 3
   },
   "file_extension": ".py",
   "mimetype": "text/x-python",
   "name": "python",
   "nbconvert_exporter": "python",
   "pygments_lexer": "ipython3",
   "version": "3.6.8"
  }
 },
 "nbformat": 4,
 "nbformat_minor": 2
}
