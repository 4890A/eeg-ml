{
 "cells": [
  {
   "cell_type": "code",
   "execution_count": 21,
   "metadata": {},
   "outputs": [],
   "source": [
    "#Import Dependencies\n",
    "import csv, sqlite3\n",
    "import pandas as pd"
   ]
  },
  {
   "cell_type": "code",
   "execution_count": 22,
   "metadata": {},
   "outputs": [],
   "source": [
    "#FUNCTION to create a table in a database using data from csvfile\n",
    "def create_table (database, table, csvfile):\n",
    "    \n",
    "    #database = name of database\n",
    "    #table = name of table in database \n",
    "    #csvfile = name of csvfile\n",
    "    \n",
    "    # Creates or opens a file called mydb with a SQLite3 DB\n",
    "    db = sqlite3.connect(database)\n",
    "    \n",
    "    # Read csv file into a dataframe\n",
    "    df = pd.read_csv(csvfile, encoding='utf-8')\n",
    "    \n",
    "    #Save dataframe data into a table\n",
    "    df.to_sql(table, db, if_exists='append')\n",
    "    #df.to_sql(table, db, if_exists='append')\n",
    "    \n",
    "    #Close the database\n",
    "    db.close()"
   ]
  },
  {
   "cell_type": "code",
   "execution_count": 23,
   "metadata": {},
   "outputs": [],
   "source": [
    "#DATABASE name\n",
    "#database = 'data/mydb_project2.sqlite'\n",
    "database = '../db/project3db.sqlite'"
   ]
  },
  {
   "cell_type": "code",
   "execution_count": 24,
   "metadata": {},
   "outputs": [],
   "source": [
    "csvfile = '../db/Alc_test.csv'\n",
    "df = pd.read_csv(csvfile)\n",
    "df = df.iloc[0:1000,:]\n",
    "csvfile = '../db/Alc_testS.csv'\n",
    "df.to_csv(csvfile, encoding='utf-8')"
   ]
  },
  {
   "cell_type": "code",
   "execution_count": 25,
   "metadata": {},
   "outputs": [],
   "source": [
    "#Create a table \"Brain-Alcohol Test data\" in database using data in csv file\n",
    "csvfile = '../db/Alc_testS.csv'\n",
    "create_table(database, 'Alc_test', csvfile)"
   ]
  },
  {
   "cell_type": "code",
   "execution_count": 26,
   "metadata": {},
   "outputs": [],
   "source": [
    "#Create small data set for testing\n",
    "csvfile = '../db/HA_test_phone.csv'\n",
    "df = pd.read_csv(csvfile)\n",
    "df = df.iloc[0:1000,:]\n",
    "csvfile = '../db/HA_test_phoneS.csv'\n",
    "df.to_csv(csvfile, encoding='utf-8')"
   ]
  },
  {
   "cell_type": "code",
   "execution_count": 27,
   "metadata": {},
   "outputs": [],
   "source": [
    "#Create a table \"Small HA test phones\" in database using data in csv file\n",
    "csvfile = '../db/HA_test_phoneS.csv'\n",
    "create_table(database, 'HA_test_phone', csvfile)"
   ]
  },
  {
   "cell_type": "code",
   "execution_count": 28,
   "metadata": {},
   "outputs": [],
   "source": [
    "#Create small data set for testing\n",
    "csvfile = '../db/HA_test_watch.csv'\n",
    "df = pd.read_csv(csvfile)\n",
    "df = df.iloc[0:1000,:]\n",
    "csvfile = '../db/HA_test_watchS.csv'\n",
    "df.to_csv(csvfile, encoding='utf-8')"
   ]
  },
  {
   "cell_type": "code",
   "execution_count": 29,
   "metadata": {},
   "outputs": [],
   "source": [
    "#Create a table \"Small HA Test Watch\" in database using data in csv file\n",
    "csvfile = '../db/HA_test_watchS.csv'\n",
    "create_table(database, 'HA_test_watch', csvfile)"
   ]
  },
  {
   "cell_type": "code",
   "execution_count": 30,
   "metadata": {},
   "outputs": [],
   "source": [
    "db = sqlite3.connect(database)"
   ]
  },
  {
   "cell_type": "code",
   "execution_count": 31,
   "metadata": {},
   "outputs": [],
   "source": [
    "cursor = db.cursor()"
   ]
  },
  {
   "cell_type": "code",
   "execution_count": 32,
   "metadata": {},
   "outputs": [
    {
     "name": "stdout",
     "output_type": "stream",
     "text": [
      "Alc_test\n",
      "HA_test_phone\n",
      "HA_test_watch\n"
     ]
    }
   ],
   "source": [
    "res = cursor.execute(\"SELECT name FROM sqlite_master WHERE type='table';\")\n",
    "for name in res:\n",
    "    print (name[0])"
   ]
  },
  {
   "cell_type": "code",
   "execution_count": 33,
   "metadata": {},
   "outputs": [],
   "source": [
    "db.close()"
   ]
  },
  {
   "cell_type": "code",
   "execution_count": null,
   "metadata": {},
   "outputs": [],
   "source": []
  }
 ],
 "metadata": {
  "kernelspec": {
   "display_name": "Python [conda env:PythonData]",
   "language": "python",
   "name": "conda-env-PythonData-py"
  },
  "language_info": {
   "codemirror_mode": {
    "name": "ipython",
    "version": 3
   },
   "file_extension": ".py",
   "mimetype": "text/x-python",
   "name": "python",
   "nbconvert_exporter": "python",
   "pygments_lexer": "ipython3",
   "version": "3.6.8"
  }
 },
 "nbformat": 4,
 "nbformat_minor": 2
}
