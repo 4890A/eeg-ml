{
 "cells": [
  {
   "cell_type": "code",
   "execution_count": 1,
   "metadata": {},
   "outputs": [],
   "source": [
    "import pandas as pd"
   ]
  },
  {
   "cell_type": "code",
   "execution_count": 2,
   "metadata": {},
   "outputs": [
    {
     "data": {
      "text/html": [
       "<div>\n",
       "<style scoped>\n",
       "    .dataframe tbody tr th:only-of-type {\n",
       "        vertical-align: middle;\n",
       "    }\n",
       "\n",
       "    .dataframe tbody tr th {\n",
       "        vertical-align: top;\n",
       "    }\n",
       "\n",
       "    .dataframe thead th {\n",
       "        text-align: right;\n",
       "    }\n",
       "</style>\n",
       "<table border=\"1\" class=\"dataframe\">\n",
       "  <thead>\n",
       "    <tr style=\"text-align: right;\">\n",
       "      <th></th>\n",
       "      <th>Unnamed: 0</th>\n",
       "      <th>trial</th>\n",
       "      <th>subject</th>\n",
       "      <th>FP1</th>\n",
       "      <th>FP2</th>\n",
       "      <th>F7</th>\n",
       "      <th>F8</th>\n",
       "      <th>AF1</th>\n",
       "      <th>AF2</th>\n",
       "      <th>FZ</th>\n",
       "      <th>...</th>\n",
       "      <th>PO7</th>\n",
       "      <th>PO8</th>\n",
       "      <th>FCZ</th>\n",
       "      <th>POZ</th>\n",
       "      <th>OZ</th>\n",
       "      <th>P2</th>\n",
       "      <th>P1</th>\n",
       "      <th>CPZ</th>\n",
       "      <th>nd</th>\n",
       "      <th>Y</th>\n",
       "    </tr>\n",
       "  </thead>\n",
       "  <tbody>\n",
       "    <tr>\n",
       "      <th>0</th>\n",
       "      <td>0</td>\n",
       "      <td>0</td>\n",
       "      <td>co2a0000364</td>\n",
       "      <td>-8.921</td>\n",
       "      <td>0.834</td>\n",
       "      <td>-19.847</td>\n",
       "      <td>8.148</td>\n",
       "      <td>-2.146</td>\n",
       "      <td>1.129</td>\n",
       "      <td>-0.071</td>\n",
       "      <td>...</td>\n",
       "      <td>3.906</td>\n",
       "      <td>5.157</td>\n",
       "      <td>1.048</td>\n",
       "      <td>-6.266</td>\n",
       "      <td>-9.033</td>\n",
       "      <td>-2.421</td>\n",
       "      <td>-4.313</td>\n",
       "      <td>-0.478</td>\n",
       "      <td>-8.901</td>\n",
       "      <td>-5.636</td>\n",
       "    </tr>\n",
       "    <tr>\n",
       "      <th>1</th>\n",
       "      <td>1</td>\n",
       "      <td>0</td>\n",
       "      <td>co2a0000364</td>\n",
       "      <td>-8.433</td>\n",
       "      <td>3.276</td>\n",
       "      <td>-12.522</td>\n",
       "      <td>1.801</td>\n",
       "      <td>-2.146</td>\n",
       "      <td>0.641</td>\n",
       "      <td>-0.559</td>\n",
       "      <td>...</td>\n",
       "      <td>10.254</td>\n",
       "      <td>7.111</td>\n",
       "      <td>0.559</td>\n",
       "      <td>-8.708</td>\n",
       "      <td>-12.451</td>\n",
       "      <td>-3.886</td>\n",
       "      <td>-5.290</td>\n",
       "      <td>-0.966</td>\n",
       "      <td>-7.924</td>\n",
       "      <td>-2.706</td>\n",
       "    </tr>\n",
       "    <tr>\n",
       "      <th>2</th>\n",
       "      <td>2</td>\n",
       "      <td>0</td>\n",
       "      <td>co2a0000364</td>\n",
       "      <td>-2.574</td>\n",
       "      <td>5.717</td>\n",
       "      <td>1.149</td>\n",
       "      <td>-2.594</td>\n",
       "      <td>-1.658</td>\n",
       "      <td>-0.336</td>\n",
       "      <td>-1.048</td>\n",
       "      <td>...</td>\n",
       "      <td>1.465</td>\n",
       "      <td>-2.655</td>\n",
       "      <td>0.559</td>\n",
       "      <td>-9.196</td>\n",
       "      <td>-11.963</td>\n",
       "      <td>-4.862</td>\n",
       "      <td>-5.290</td>\n",
       "      <td>-0.966</td>\n",
       "      <td>-3.042</td>\n",
       "      <td>1.689</td>\n",
       "    </tr>\n",
       "    <tr>\n",
       "      <th>3</th>\n",
       "      <td>3</td>\n",
       "      <td>0</td>\n",
       "      <td>co2a0000364</td>\n",
       "      <td>5.239</td>\n",
       "      <td>7.670</td>\n",
       "      <td>14.821</td>\n",
       "      <td>-4.547</td>\n",
       "      <td>-0.682</td>\n",
       "      <td>-0.824</td>\n",
       "      <td>-0.559</td>\n",
       "      <td>...</td>\n",
       "      <td>5.371</td>\n",
       "      <td>-7.050</td>\n",
       "      <td>0.559</td>\n",
       "      <td>-6.755</td>\n",
       "      <td>-8.545</td>\n",
       "      <td>-3.886</td>\n",
       "      <td>-4.313</td>\n",
       "      <td>-0.966</td>\n",
       "      <td>4.771</td>\n",
       "      <td>5.595</td>\n",
       "    </tr>\n",
       "    <tr>\n",
       "      <th>4</th>\n",
       "      <td>4</td>\n",
       "      <td>0</td>\n",
       "      <td>co2a0000364</td>\n",
       "      <td>11.587</td>\n",
       "      <td>9.623</td>\n",
       "      <td>20.681</td>\n",
       "      <td>-5.035</td>\n",
       "      <td>2.248</td>\n",
       "      <td>0.641</td>\n",
       "      <td>0.905</td>\n",
       "      <td>...</td>\n",
       "      <td>-12.207</td>\n",
       "      <td>-4.120</td>\n",
       "      <td>1.048</td>\n",
       "      <td>-3.337</td>\n",
       "      <td>-3.662</td>\n",
       "      <td>-1.933</td>\n",
       "      <td>-2.360</td>\n",
       "      <td>-0.478</td>\n",
       "      <td>11.607</td>\n",
       "      <td>9.013</td>\n",
       "    </tr>\n",
       "  </tbody>\n",
       "</table>\n",
       "<p>5 rows × 67 columns</p>\n",
       "</div>"
      ],
      "text/plain": [
       "   Unnamed: 0  trial      subject     FP1    FP2      F7     F8    AF1    AF2  \\\n",
       "0           0      0  co2a0000364  -8.921  0.834 -19.847  8.148 -2.146  1.129   \n",
       "1           1      0  co2a0000364  -8.433  3.276 -12.522  1.801 -2.146  0.641   \n",
       "2           2      0  co2a0000364  -2.574  5.717   1.149 -2.594 -1.658 -0.336   \n",
       "3           3      0  co2a0000364   5.239  7.670  14.821 -4.547 -0.682 -0.824   \n",
       "4           4      0  co2a0000364  11.587  9.623  20.681 -5.035  2.248  0.641   \n",
       "\n",
       "      FZ  ...     PO7    PO8    FCZ    POZ      OZ     P2     P1    CPZ  \\\n",
       "0 -0.071  ...   3.906  5.157  1.048 -6.266  -9.033 -2.421 -4.313 -0.478   \n",
       "1 -0.559  ...  10.254  7.111  0.559 -8.708 -12.451 -3.886 -5.290 -0.966   \n",
       "2 -1.048  ...   1.465 -2.655  0.559 -9.196 -11.963 -4.862 -5.290 -0.966   \n",
       "3 -0.559  ...   5.371 -7.050  0.559 -6.755  -8.545 -3.886 -4.313 -0.966   \n",
       "4  0.905  ... -12.207 -4.120  1.048 -3.337  -3.662 -1.933 -2.360 -0.478   \n",
       "\n",
       "       nd      Y  \n",
       "0  -8.901 -5.636  \n",
       "1  -7.924 -2.706  \n",
       "2  -3.042  1.689  \n",
       "3   4.771  5.595  \n",
       "4  11.607  9.013  \n",
       "\n",
       "[5 rows x 67 columns]"
      ]
     },
     "execution_count": 2,
     "metadata": {},
     "output_type": "execute_result"
    }
   ],
   "source": [
    "filen = \"../data/alcoholism_eeg.csv\"\n",
    "df = pd.read_csv(filen)\n",
    "df.head()"
   ]
  },
  {
   "cell_type": "code",
   "execution_count": 3,
   "metadata": {},
   "outputs": [
    {
     "data": {
      "text/plain": [
       "0          1\n",
       "1          1\n",
       "2          1\n",
       "3          1\n",
       "4          1\n",
       "5          1\n",
       "6          1\n",
       "7          1\n",
       "8          1\n",
       "9          1\n",
       "10         1\n",
       "11         1\n",
       "12         1\n",
       "13         1\n",
       "14         1\n",
       "15         1\n",
       "16         1\n",
       "17         1\n",
       "18         1\n",
       "19         1\n",
       "20         1\n",
       "21         1\n",
       "22         1\n",
       "23         1\n",
       "24         1\n",
       "25         1\n",
       "26         1\n",
       "27         1\n",
       "28         1\n",
       "29         1\n",
       "          ..\n",
       "2830562    0\n",
       "2830563    0\n",
       "2830564    0\n",
       "2830565    0\n",
       "2830566    0\n",
       "2830567    0\n",
       "2830568    0\n",
       "2830569    0\n",
       "2830570    0\n",
       "2830571    0\n",
       "2830572    0\n",
       "2830573    0\n",
       "2830574    0\n",
       "2830575    0\n",
       "2830576    0\n",
       "2830577    0\n",
       "2830578    0\n",
       "2830579    0\n",
       "2830580    0\n",
       "2830581    0\n",
       "2830582    0\n",
       "2830583    0\n",
       "2830584    0\n",
       "2830585    0\n",
       "2830586    0\n",
       "2830587    0\n",
       "2830588    0\n",
       "2830589    0\n",
       "2830590    0\n",
       "2830591    0\n",
       "Name: label, Length: 2830592, dtype: int64"
      ]
     },
     "execution_count": 3,
     "metadata": {},
     "output_type": "execute_result"
    }
   ],
   "source": [
    "y1 = df[\"subject\"]\n",
    "y2 = []\n",
    "for s in y1:\n",
    "    if 'a' in s:\n",
    "        y2.append(1)\n",
    "    else:\n",
    "        y2.append(0)\n",
    "\n",
    "y4 = pd.DataFrame({\"label\":y2})\n",
    "y = y4[\"label\"]\n",
    "y"
   ]
  },
  {
   "cell_type": "code",
   "execution_count": 4,
   "metadata": {},
   "outputs": [
    {
     "data": {
      "text/html": [
       "<div>\n",
       "<style scoped>\n",
       "    .dataframe tbody tr th:only-of-type {\n",
       "        vertical-align: middle;\n",
       "    }\n",
       "\n",
       "    .dataframe tbody tr th {\n",
       "        vertical-align: top;\n",
       "    }\n",
       "\n",
       "    .dataframe thead th {\n",
       "        text-align: right;\n",
       "    }\n",
       "</style>\n",
       "<table border=\"1\" class=\"dataframe\">\n",
       "  <thead>\n",
       "    <tr style=\"text-align: right;\">\n",
       "      <th></th>\n",
       "      <th>FP1</th>\n",
       "      <th>FP2</th>\n",
       "      <th>F7</th>\n",
       "      <th>F8</th>\n",
       "      <th>AF1</th>\n",
       "      <th>AF2</th>\n",
       "      <th>FZ</th>\n",
       "      <th>F4</th>\n",
       "      <th>F3</th>\n",
       "      <th>FC6</th>\n",
       "      <th>...</th>\n",
       "      <th>PO7</th>\n",
       "      <th>PO8</th>\n",
       "      <th>FCZ</th>\n",
       "      <th>POZ</th>\n",
       "      <th>OZ</th>\n",
       "      <th>P2</th>\n",
       "      <th>P1</th>\n",
       "      <th>CPZ</th>\n",
       "      <th>nd</th>\n",
       "      <th>Y</th>\n",
       "    </tr>\n",
       "  </thead>\n",
       "  <tbody>\n",
       "    <tr>\n",
       "      <th>0</th>\n",
       "      <td>-8.921</td>\n",
       "      <td>0.834</td>\n",
       "      <td>-19.847</td>\n",
       "      <td>8.148</td>\n",
       "      <td>-2.146</td>\n",
       "      <td>1.129</td>\n",
       "      <td>-0.071</td>\n",
       "      <td>3.408</td>\n",
       "      <td>-0.092</td>\n",
       "      <td>4.832</td>\n",
       "      <td>...</td>\n",
       "      <td>3.906</td>\n",
       "      <td>5.157</td>\n",
       "      <td>1.048</td>\n",
       "      <td>-6.266</td>\n",
       "      <td>-9.033</td>\n",
       "      <td>-2.421</td>\n",
       "      <td>-4.313</td>\n",
       "      <td>-0.478</td>\n",
       "      <td>-8.901</td>\n",
       "      <td>-5.636</td>\n",
       "    </tr>\n",
       "    <tr>\n",
       "      <th>1</th>\n",
       "      <td>-8.433</td>\n",
       "      <td>3.276</td>\n",
       "      <td>-12.522</td>\n",
       "      <td>1.801</td>\n",
       "      <td>-2.146</td>\n",
       "      <td>0.641</td>\n",
       "      <td>-0.559</td>\n",
       "      <td>1.455</td>\n",
       "      <td>0.397</td>\n",
       "      <td>6.297</td>\n",
       "      <td>...</td>\n",
       "      <td>10.254</td>\n",
       "      <td>7.111</td>\n",
       "      <td>0.559</td>\n",
       "      <td>-8.708</td>\n",
       "      <td>-12.451</td>\n",
       "      <td>-3.886</td>\n",
       "      <td>-5.290</td>\n",
       "      <td>-0.966</td>\n",
       "      <td>-7.924</td>\n",
       "      <td>-2.706</td>\n",
       "    </tr>\n",
       "    <tr>\n",
       "      <th>2</th>\n",
       "      <td>-2.574</td>\n",
       "      <td>5.717</td>\n",
       "      <td>1.149</td>\n",
       "      <td>-2.594</td>\n",
       "      <td>-1.658</td>\n",
       "      <td>-0.336</td>\n",
       "      <td>-1.048</td>\n",
       "      <td>0.478</td>\n",
       "      <td>-1.068</td>\n",
       "      <td>5.809</td>\n",
       "      <td>...</td>\n",
       "      <td>1.465</td>\n",
       "      <td>-2.655</td>\n",
       "      <td>0.559</td>\n",
       "      <td>-9.196</td>\n",
       "      <td>-11.963</td>\n",
       "      <td>-4.862</td>\n",
       "      <td>-5.290</td>\n",
       "      <td>-0.966</td>\n",
       "      <td>-3.042</td>\n",
       "      <td>1.689</td>\n",
       "    </tr>\n",
       "    <tr>\n",
       "      <th>3</th>\n",
       "      <td>5.239</td>\n",
       "      <td>7.670</td>\n",
       "      <td>14.821</td>\n",
       "      <td>-4.547</td>\n",
       "      <td>-0.682</td>\n",
       "      <td>-0.824</td>\n",
       "      <td>-0.559</td>\n",
       "      <td>0.966</td>\n",
       "      <td>-3.510</td>\n",
       "      <td>3.367</td>\n",
       "      <td>...</td>\n",
       "      <td>5.371</td>\n",
       "      <td>-7.050</td>\n",
       "      <td>0.559</td>\n",
       "      <td>-6.755</td>\n",
       "      <td>-8.545</td>\n",
       "      <td>-3.886</td>\n",
       "      <td>-4.313</td>\n",
       "      <td>-0.966</td>\n",
       "      <td>4.771</td>\n",
       "      <td>5.595</td>\n",
       "    </tr>\n",
       "    <tr>\n",
       "      <th>4</th>\n",
       "      <td>11.587</td>\n",
       "      <td>9.623</td>\n",
       "      <td>20.681</td>\n",
       "      <td>-5.035</td>\n",
       "      <td>2.248</td>\n",
       "      <td>0.641</td>\n",
       "      <td>0.905</td>\n",
       "      <td>1.943</td>\n",
       "      <td>-5.463</td>\n",
       "      <td>1.414</td>\n",
       "      <td>...</td>\n",
       "      <td>-12.207</td>\n",
       "      <td>-4.120</td>\n",
       "      <td>1.048</td>\n",
       "      <td>-3.337</td>\n",
       "      <td>-3.662</td>\n",
       "      <td>-1.933</td>\n",
       "      <td>-2.360</td>\n",
       "      <td>-0.478</td>\n",
       "      <td>11.607</td>\n",
       "      <td>9.013</td>\n",
       "    </tr>\n",
       "  </tbody>\n",
       "</table>\n",
       "<p>5 rows × 64 columns</p>\n",
       "</div>"
      ],
      "text/plain": [
       "      FP1    FP2      F7     F8    AF1    AF2     FZ     F4     F3    FC6  \\\n",
       "0  -8.921  0.834 -19.847  8.148 -2.146  1.129 -0.071  3.408 -0.092  4.832   \n",
       "1  -8.433  3.276 -12.522  1.801 -2.146  0.641 -0.559  1.455  0.397  6.297   \n",
       "2  -2.574  5.717   1.149 -2.594 -1.658 -0.336 -1.048  0.478 -1.068  5.809   \n",
       "3   5.239  7.670  14.821 -4.547 -0.682 -0.824 -0.559  0.966 -3.510  3.367   \n",
       "4  11.587  9.623  20.681 -5.035  2.248  0.641  0.905  1.943 -5.463  1.414   \n",
       "\n",
       "   ...     PO7    PO8    FCZ    POZ      OZ     P2     P1    CPZ      nd  \\\n",
       "0  ...   3.906  5.157  1.048 -6.266  -9.033 -2.421 -4.313 -0.478  -8.901   \n",
       "1  ...  10.254  7.111  0.559 -8.708 -12.451 -3.886 -5.290 -0.966  -7.924   \n",
       "2  ...   1.465 -2.655  0.559 -9.196 -11.963 -4.862 -5.290 -0.966  -3.042   \n",
       "3  ...   5.371 -7.050  0.559 -6.755  -8.545 -3.886 -4.313 -0.966   4.771   \n",
       "4  ... -12.207 -4.120  1.048 -3.337  -3.662 -1.933 -2.360 -0.478  11.607   \n",
       "\n",
       "       Y  \n",
       "0 -5.636  \n",
       "1 -2.706  \n",
       "2  1.689  \n",
       "3  5.595  \n",
       "4  9.013  \n",
       "\n",
       "[5 rows x 64 columns]"
      ]
     },
     "execution_count": 4,
     "metadata": {},
     "output_type": "execute_result"
    }
   ],
   "source": [
    "X = df.iloc[:,3:]\n",
    "X.head()"
   ]
  },
  {
   "cell_type": "code",
   "execution_count": 5,
   "metadata": {},
   "outputs": [],
   "source": [
    "from sklearn.model_selection import train_test_split\n",
    "from sklearn.preprocessing import LabelEncoder, StandardScaler\n",
    "\n",
    "X_train, X_test, y_train, y_test = train_test_split(\n",
    "    X, y, random_state=1, stratify=y)\n",
    "X_scaler = StandardScaler().fit(X_train)\n",
    "X_train_scaled = X_scaler.transform(X_train)\n",
    "X_test_scaled = X_scaler.transform(X_test)"
   ]
  },
  {
   "cell_type": "code",
   "execution_count": 6,
   "metadata": {},
   "outputs": [
    {
     "data": {
      "text/plain": [
       "LogisticRegression(C=1.0, class_weight=None, dual=False, fit_intercept=True,\n",
       "          intercept_scaling=1, max_iter=100, multi_class='warn',\n",
       "          n_jobs=None, penalty='l2', random_state=None, solver='warn',\n",
       "          tol=0.0001, verbose=0, warm_start=False)"
      ]
     },
     "execution_count": 6,
     "metadata": {},
     "output_type": "execute_result"
    }
   ],
   "source": [
    "from sklearn.linear_model import LogisticRegression\n",
    "model = LogisticRegression()\n",
    "model"
   ]
  },
  {
   "cell_type": "code",
   "execution_count": 7,
   "metadata": {},
   "outputs": [
    {
     "name": "stderr",
     "output_type": "stream",
     "text": [
      "C:\\Users\\asi40\\.conda\\envs\\PythonData\\lib\\site-packages\\sklearn\\linear_model\\logistic.py:433: FutureWarning: Default solver will be changed to 'lbfgs' in 0.22. Specify a solver to silence this warning.\n",
      "  FutureWarning)\n"
     ]
    },
    {
     "data": {
      "text/plain": [
       "LogisticRegression(C=1.0, class_weight=None, dual=False, fit_intercept=True,\n",
       "          intercept_scaling=1, max_iter=100, multi_class='warn',\n",
       "          n_jobs=None, penalty='l2', random_state=None, solver='warn',\n",
       "          tol=0.0001, verbose=0, warm_start=False)"
      ]
     },
     "execution_count": 7,
     "metadata": {},
     "output_type": "execute_result"
    }
   ],
   "source": [
    "model.fit(X_train_scaled, y_train)"
   ]
  },
  {
   "cell_type": "code",
   "execution_count": 9,
   "metadata": {},
   "outputs": [
    {
     "name": "stdout",
     "output_type": "stream",
     "text": [
      "Training Data Score: 0.641729127098972\n",
      "Testing Data Score: 0.641738547978656\n"
     ]
    }
   ],
   "source": [
    "print(f\"Training Data Score: {model.score(X_train_scaled, y_train)}\")\n",
    "print(f\"Testing Data Score: {model.score(X_test_scaled, y_test)}\")"
   ]
  },
  {
   "cell_type": "code",
   "execution_count": null,
   "metadata": {},
   "outputs": [],
   "source": [
    "#predictions = model.predict(X_test)\n",
    "#r = pd.DataFrame({\"Prediction\": predictions, \"Actual\": y_test})\n",
    "#r.head()"
   ]
  },
  {
   "cell_type": "code",
   "execution_count": null,
   "metadata": {},
   "outputs": [],
   "source": [
    "#r.count()"
   ]
  },
  {
   "cell_type": "code",
   "execution_count": 10,
   "metadata": {},
   "outputs": [],
   "source": [
    "#r1 = r[r[\"Prediction\"] == r[\"Actual\"]]\n",
    "#r1"
   ]
  },
  {
   "cell_type": "code",
   "execution_count": 11,
   "metadata": {},
   "outputs": [
    {
     "name": "stderr",
     "output_type": "stream",
     "text": [
      "C:\\Users\\asi40\\.conda\\envs\\PythonData\\lib\\site-packages\\sklearn\\linear_model\\logistic.py:433: FutureWarning: Default solver will be changed to 'lbfgs' in 0.22. Specify a solver to silence this warning.\n",
      "  FutureWarning)\n"
     ]
    },
    {
     "data": {
      "text/plain": [
       "LogisticRegression(C=1.0, class_weight=None, dual=False, fit_intercept=True,\n",
       "          intercept_scaling=1, max_iter=100, multi_class='warn',\n",
       "          n_jobs=None, penalty='l2', random_state=None, solver='warn',\n",
       "          tol=0.0001, verbose=0, warm_start=False)"
      ]
     },
     "execution_count": 11,
     "metadata": {},
     "output_type": "execute_result"
    }
   ],
   "source": [
    "#LR model without scaled data\n",
    "model2 = LogisticRegression()\n",
    "model2.fit(X_train, y_train)"
   ]
  },
  {
   "cell_type": "code",
   "execution_count": 13,
   "metadata": {},
   "outputs": [
    {
     "name": "stdout",
     "output_type": "stream",
     "text": [
      "Training Data Score: 0.6417300691869404\n",
      "Testing Data Score: 0.641738547978656\n"
     ]
    }
   ],
   "source": [
    "print(f\"Training Data Score: {model2.score(X_train, y_train)}\")\n",
    "print(f\"Testing Data Score: {model2.score(X_test, y_test)}\")"
   ]
  },
  {
   "cell_type": "code",
   "execution_count": 14,
   "metadata": {},
   "outputs": [],
   "source": [
    "# Save the model\n",
    "import pickle\n",
    "\n",
    "# save the model to disk\n",
    "filename = 'Alc_Brain_LR.sav'\n",
    "pickle.dump(model, open(filename, 'wb'))\n",
    "\n"
   ]
  },
  {
   "cell_type": "code",
   "execution_count": 15,
   "metadata": {},
   "outputs": [
    {
     "data": {
      "text/plain": [
       "['Alc_Brain_LR_scaler.bin']"
      ]
     },
     "execution_count": 15,
     "metadata": {},
     "output_type": "execute_result"
    }
   ],
   "source": [
    "#Saving the X_scaler\n",
    "from sklearn.externals.joblib import dump, load\n",
    "dump(X_scaler, 'Alc_Brain_LR_scaler.bin', compress=True)"
   ]
  },
  {
   "cell_type": "code",
   "execution_count": null,
   "metadata": {},
   "outputs": [],
   "source": []
  }
 ],
 "metadata": {
  "kernelspec": {
   "display_name": "Python [conda env:PythonData]",
   "language": "python",
   "name": "conda-env-PythonData-py"
  },
  "language_info": {
   "codemirror_mode": {
    "name": "ipython",
    "version": 3
   },
   "file_extension": ".py",
   "mimetype": "text/x-python",
   "name": "python",
   "nbconvert_exporter": "python",
   "pygments_lexer": "ipython3",
   "version": "3.6.8"
  }
 },
 "nbformat": 4,
 "nbformat_minor": 2
}
