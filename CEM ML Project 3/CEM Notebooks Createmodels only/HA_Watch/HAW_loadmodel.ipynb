{
 "cells": [
  {
   "cell_type": "code",
   "execution_count": 1,
   "metadata": {},
   "outputs": [],
   "source": [
    "#Import Dependencies\n",
    "import csv, sqlite3\n",
    "import pandas as pd"
   ]
  },
  {
   "cell_type": "code",
   "execution_count": 2,
   "metadata": {},
   "outputs": [],
   "source": [
    "#DATABASE name\n",
    "database = '../db_testing/project3db.sqlite'"
   ]
  },
  {
   "cell_type": "code",
   "execution_count": 3,
   "metadata": {},
   "outputs": [
    {
     "name": "stdout",
     "output_type": "stream",
     "text": [
      "Alc_test1\n",
      "sqlite_sequence\n",
      "HA_test_phone1\n",
      "HA_test_watch1\n"
     ]
    }
   ],
   "source": [
    "db = sqlite3.connect(database)\n",
    "cursor = db.cursor()\n",
    "res = cursor.execute(\"SELECT name FROM sqlite_master WHERE type='table';\")\n",
    "for name in res:\n",
    "    print (name[0])\n",
    "db.close()"
   ]
  },
  {
   "cell_type": "code",
   "execution_count": 4,
   "metadata": {},
   "outputs": [
    {
     "data": {
      "text/html": [
       "<div>\n",
       "<style scoped>\n",
       "    .dataframe tbody tr th:only-of-type {\n",
       "        vertical-align: middle;\n",
       "    }\n",
       "\n",
       "    .dataframe tbody tr th {\n",
       "        vertical-align: top;\n",
       "    }\n",
       "\n",
       "    .dataframe thead th {\n",
       "        text-align: right;\n",
       "    }\n",
       "</style>\n",
       "<table border=\"1\" class=\"dataframe\">\n",
       "  <thead>\n",
       "    <tr style=\"text-align: right;\">\n",
       "      <th></th>\n",
       "      <th>rec_id</th>\n",
       "      <th>x</th>\n",
       "      <th>y</th>\n",
       "      <th>z</th>\n",
       "      <th>Status</th>\n",
       "    </tr>\n",
       "  </thead>\n",
       "  <tbody>\n",
       "    <tr>\n",
       "      <th>0</th>\n",
       "      <td>1</td>\n",
       "      <td>15.104721</td>\n",
       "      <td>-2.221954</td>\n",
       "      <td>0.375290</td>\n",
       "      <td>walk</td>\n",
       "    </tr>\n",
       "    <tr>\n",
       "      <th>1</th>\n",
       "      <td>2</td>\n",
       "      <td>1.436630</td>\n",
       "      <td>-7.858673</td>\n",
       "      <td>6.007248</td>\n",
       "      <td>sit</td>\n",
       "    </tr>\n",
       "    <tr>\n",
       "      <th>2</th>\n",
       "      <td>3</td>\n",
       "      <td>-13.764420</td>\n",
       "      <td>-4.878449</td>\n",
       "      <td>0.860886</td>\n",
       "      <td>walk</td>\n",
       "    </tr>\n",
       "    <tr>\n",
       "      <th>3</th>\n",
       "      <td>4</td>\n",
       "      <td>-5.383392</td>\n",
       "      <td>-8.617569</td>\n",
       "      <td>1.695801</td>\n",
       "      <td>bike</td>\n",
       "    </tr>\n",
       "    <tr>\n",
       "      <th>4</th>\n",
       "      <td>5</td>\n",
       "      <td>-7.185074</td>\n",
       "      <td>-4.952240</td>\n",
       "      <td>2.312912</td>\n",
       "      <td>stairsup</td>\n",
       "    </tr>\n",
       "  </tbody>\n",
       "</table>\n",
       "</div>"
      ],
      "text/plain": [
       "   rec_id          x         y         z    Status\n",
       "0       1  15.104721 -2.221954  0.375290      walk\n",
       "1       2   1.436630 -7.858673  6.007248       sit\n",
       "2       3 -13.764420 -4.878449  0.860886      walk\n",
       "3       4  -5.383392 -8.617569  1.695801      bike\n",
       "4       5  -7.185074 -4.952240  2.312912  stairsup"
      ]
     },
     "execution_count": 4,
     "metadata": {},
     "output_type": "execute_result"
    }
   ],
   "source": [
    "#connect to the database\n",
    "db = sqlite3.connect(database)\n",
    "\n",
    "query = \"SELECT * FROM HA_test_watch1;\"\n",
    "df = pd.read_sql_query(query,db)\n",
    "db.close()\n",
    "df.head()"
   ]
  },
  {
   "cell_type": "code",
   "execution_count": 5,
   "metadata": {},
   "outputs": [
    {
     "data": {
      "text/plain": [
       "0            walk\n",
       "1             sit\n",
       "2            walk\n",
       "3            bike\n",
       "4        stairsup\n",
       "5            walk\n",
       "6            bike\n",
       "7      stairsdown\n",
       "8            walk\n",
       "9             sit\n",
       "10          stand\n",
       "11            sit\n",
       "12            sit\n",
       "13     stairsdown\n",
       "14           bike\n",
       "15     stairsdown\n",
       "16           walk\n",
       "17            sit\n",
       "18            sit\n",
       "19          stand\n",
       "20            sit\n",
       "21           bike\n",
       "22       stairsup\n",
       "23          stand\n",
       "24           bike\n",
       "25           bike\n",
       "26           walk\n",
       "27     stairsdown\n",
       "28           bike\n",
       "29          stand\n",
       "          ...    \n",
       "970      stairsup\n",
       "971          walk\n",
       "972          walk\n",
       "973         stand\n",
       "974    stairsdown\n",
       "975    stairsdown\n",
       "976         stand\n",
       "977          walk\n",
       "978    stairsdown\n",
       "979          walk\n",
       "980          walk\n",
       "981    stairsdown\n",
       "982    stairsdown\n",
       "983      stairsup\n",
       "984         stand\n",
       "985          walk\n",
       "986    stairsdown\n",
       "987          walk\n",
       "988          bike\n",
       "989    stairsdown\n",
       "990    stairsdown\n",
       "991      stairsup\n",
       "992          bike\n",
       "993          walk\n",
       "994      stairsup\n",
       "995          bike\n",
       "996         stand\n",
       "997         stand\n",
       "998      stairsup\n",
       "999           sit\n",
       "Name: Status, Length: 1000, dtype: object"
      ]
     },
     "execution_count": 5,
     "metadata": {},
     "output_type": "execute_result"
    }
   ],
   "source": [
    "y_test = df[\"Status\"]\n",
    "y_test"
   ]
  },
  {
   "cell_type": "code",
   "execution_count": 6,
   "metadata": {},
   "outputs": [
    {
     "data": {
      "text/html": [
       "<div>\n",
       "<style scoped>\n",
       "    .dataframe tbody tr th:only-of-type {\n",
       "        vertical-align: middle;\n",
       "    }\n",
       "\n",
       "    .dataframe tbody tr th {\n",
       "        vertical-align: top;\n",
       "    }\n",
       "\n",
       "    .dataframe thead th {\n",
       "        text-align: right;\n",
       "    }\n",
       "</style>\n",
       "<table border=\"1\" class=\"dataframe\">\n",
       "  <thead>\n",
       "    <tr style=\"text-align: right;\">\n",
       "      <th></th>\n",
       "      <th>x</th>\n",
       "      <th>y</th>\n",
       "      <th>z</th>\n",
       "    </tr>\n",
       "  </thead>\n",
       "  <tbody>\n",
       "    <tr>\n",
       "      <th>0</th>\n",
       "      <td>15.104721</td>\n",
       "      <td>-2.221954</td>\n",
       "      <td>0.375290</td>\n",
       "    </tr>\n",
       "    <tr>\n",
       "      <th>1</th>\n",
       "      <td>1.436630</td>\n",
       "      <td>-7.858673</td>\n",
       "      <td>6.007248</td>\n",
       "    </tr>\n",
       "    <tr>\n",
       "      <th>2</th>\n",
       "      <td>-13.764420</td>\n",
       "      <td>-4.878449</td>\n",
       "      <td>0.860886</td>\n",
       "    </tr>\n",
       "    <tr>\n",
       "      <th>3</th>\n",
       "      <td>-5.383392</td>\n",
       "      <td>-8.617569</td>\n",
       "      <td>1.695801</td>\n",
       "    </tr>\n",
       "    <tr>\n",
       "      <th>4</th>\n",
       "      <td>-7.185074</td>\n",
       "      <td>-4.952240</td>\n",
       "      <td>2.312912</td>\n",
       "    </tr>\n",
       "  </tbody>\n",
       "</table>\n",
       "</div>"
      ],
      "text/plain": [
       "           x         y         z\n",
       "0  15.104721 -2.221954  0.375290\n",
       "1   1.436630 -7.858673  6.007248\n",
       "2 -13.764420 -4.878449  0.860886\n",
       "3  -5.383392 -8.617569  1.695801\n",
       "4  -7.185074 -4.952240  2.312912"
      ]
     },
     "execution_count": 6,
     "metadata": {},
     "output_type": "execute_result"
    }
   ],
   "source": [
    "X_test = df.iloc[:,1:4]\n",
    "X_test.head()"
   ]
  },
  {
   "cell_type": "code",
   "execution_count": 8,
   "metadata": {},
   "outputs": [],
   "source": [
    "#Load the Scaled function for LR model\n",
    "from sklearn.externals.joblib import dump, load\n",
    "X_scaler = load('HAW_scaler.bin')"
   ]
  },
  {
   "cell_type": "code",
   "execution_count": 9,
   "metadata": {},
   "outputs": [],
   "source": [
    "#Scales X_test data\n",
    "X_test_scaled = X_scaler.transform(X_test)  "
   ]
  },
  {
   "cell_type": "code",
   "execution_count": 10,
   "metadata": {},
   "outputs": [],
   "source": [
    "#Load Label Encoder\n",
    "label_encoder = load('HAW_label_encoder.bin')"
   ]
  },
  {
   "cell_type": "code",
   "execution_count": 11,
   "metadata": {},
   "outputs": [
    {
     "name": "stderr",
     "output_type": "stream",
     "text": [
      "Using TensorFlow backend.\n"
     ]
    }
   ],
   "source": [
    "from keras.utils import to_categorical\n",
    "encoded_y_test = label_encoder.transform(y_test)\n",
    "y_test_categorical = to_categorical(encoded_y_test)"
   ]
  },
  {
   "cell_type": "code",
   "execution_count": 12,
   "metadata": {},
   "outputs": [],
   "source": [
    "import numpy as np\n",
    "X_test_scaled = np.reshape(X_test_scaled, (X_test_scaled.shape[0],1,X_test_scaled.shape[1]))\n",
    "X_test_scaled = np.array(X_test_scaled)"
   ]
  },
  {
   "cell_type": "code",
   "execution_count": 13,
   "metadata": {},
   "outputs": [
    {
     "name": "stdout",
     "output_type": "stream",
     "text": [
      "WARNING:tensorflow:From C:\\Users\\asi40\\.conda\\envs\\PythonData\\lib\\site-packages\\tensorflow\\python\\ops\\nn_impl.py:180: add_dispatch_support.<locals>.wrapper (from tensorflow.python.ops.array_ops) is deprecated and will be removed in a future version.\n",
      "Instructions for updating:\n",
      "Use tf.where in 2.0, which has the same broadcast rule as np.where\n",
      "WARNING:tensorflow:From C:\\Users\\asi40\\.conda\\envs\\PythonData\\lib\\site-packages\\keras\\backend\\tensorflow_backend.py:422: The name tf.global_variables is deprecated. Please use tf.compat.v1.global_variables instead.\n",
      "\n"
     ]
    }
   ],
   "source": [
    "#Import a model (NN)\n",
    "from keras.models import load_model\n",
    "modeln1 = \"HA_RNN1_WatchT1.h5\"\n",
    "model = load_model(modeln1)"
   ]
  },
  {
   "cell_type": "code",
   "execution_count": 14,
   "metadata": {},
   "outputs": [
    {
     "name": "stdout",
     "output_type": "stream",
     "text": [
      "Normal Neural Network - Loss: 0.2874430305957794, Accuracy: 0.8810000419616699\n"
     ]
    }
   ],
   "source": [
    "model_loss, model_accuracy = model.evaluate(X_test_scaled, y_test_categorical, verbose=2)\n",
    "print(f\"Normal Neural Network - Loss: {model_loss}, Accuracy: {model_accuracy}\")"
   ]
  },
  {
   "cell_type": "code",
   "execution_count": 15,
   "metadata": {},
   "outputs": [],
   "source": [
    "encoded_predictions = model.predict_classes(X_test_scaled[:10])\n",
    "prediction_labels = label_encoder.inverse_transform(encoded_predictions)"
   ]
  },
  {
   "cell_type": "code",
   "execution_count": 16,
   "metadata": {},
   "outputs": [
    {
     "name": "stdout",
     "output_type": "stream",
     "text": [
      "Predicted classes: ['walk' 'sit' 'walk' 'bike' 'sit' 'walk' 'stairsdown' 'stairsup'\n",
      " 'stairsdown' 'sit']\n",
      "Actual Labels: ['walk', 'sit', 'walk', 'bike', 'stairsup', 'walk', 'bike', 'stairsdown', 'walk', 'sit']\n"
     ]
    }
   ],
   "source": [
    "print(f\"Predicted classes: {prediction_labels}\")\n",
    "print(f\"Actual Labels: {list(y_test[:10])}\")"
   ]
  },
  {
   "cell_type": "code",
   "execution_count": null,
   "metadata": {},
   "outputs": [],
   "source": []
  }
 ],
 "metadata": {
  "kernelspec": {
   "display_name": "Python [conda env:PythonData]",
   "language": "python",
   "name": "conda-env-PythonData-py"
  },
  "language_info": {
   "codemirror_mode": {
    "name": "ipython",
    "version": 3
   },
   "file_extension": ".py",
   "mimetype": "text/x-python",
   "name": "python",
   "nbconvert_exporter": "python",
   "pygments_lexer": "ipython3",
   "version": "3.6.8"
  }
 },
 "nbformat": 4,
 "nbformat_minor": 2
}
